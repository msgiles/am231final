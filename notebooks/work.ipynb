{
 "cells": [
  {
   "cell_type": "code",
<<<<<<< HEAD
   "execution_count": 4,
   "metadata": {},
   "outputs": [
    {
     "ename": "ModuleNotFoundError",
     "evalue": "No module named 'geopandas'",
     "output_type": "error",
     "traceback": [
      "\u001b[0;31m---------------------------------------------------------------------------\u001b[0m",
      "\u001b[0;31mModuleNotFoundError\u001b[0m                       Traceback (most recent call last)",
      "\u001b[0;32m<ipython-input-4-cc7a0540b702>\u001b[0m in \u001b[0;36m<module>\u001b[0;34m()\u001b[0m\n\u001b[1;32m      3\u001b[0m \u001b[0;32mimport\u001b[0m \u001b[0mseaborn\u001b[0m \u001b[0;32mas\u001b[0m \u001b[0msns\u001b[0m\u001b[0;34m\u001b[0m\u001b[0m\n\u001b[1;32m      4\u001b[0m \u001b[0;32mimport\u001b[0m \u001b[0mmatplotlib\u001b[0m\u001b[0;34m.\u001b[0m\u001b[0mpyplot\u001b[0m \u001b[0;32mas\u001b[0m \u001b[0mplt\u001b[0m\u001b[0;34m\u001b[0m\u001b[0m\n\u001b[0;32m----> 5\u001b[0;31m \u001b[0;32mimport\u001b[0m \u001b[0mgeopandas\u001b[0m \u001b[0;32mas\u001b[0m \u001b[0mgpd\u001b[0m\u001b[0;34m\u001b[0m\u001b[0m\n\u001b[0m\u001b[1;32m      6\u001b[0m \u001b[0;32mimport\u001b[0m \u001b[0mnetworkx\u001b[0m \u001b[0;32mas\u001b[0m \u001b[0mnx\u001b[0m\u001b[0;34m\u001b[0m\u001b[0m\n",
      "\u001b[0;31mModuleNotFoundError\u001b[0m: No module named 'geopandas'"
     ]
    }
   ],
=======
   "execution_count": 732,
   "metadata": {},
   "outputs": [],
>>>>>>> d9a3a53771ccffcf0182d26684633232636f6583
   "source": [
    "import numpy as np\n",
    "import pandas as pd\n",
    "import seaborn as sns\n",
    "import matplotlib.pyplot as plt\n",
    "import geopandas as gpd\n",
    "import networkx as nx\n",
    "import pysal\n",
    "from sklearn import tree"
   ]
  },
  {
   "cell_type": "code",
<<<<<<< HEAD
   "execution_count": null,
   "metadata": {
    "collapsed": true
   },
=======
   "execution_count": 819,
   "metadata": {},
>>>>>>> d9a3a53771ccffcf0182d26684633232636f6583
   "outputs": [],
   "source": [
    "# merge puma codes with sub-bourough data\n",
    "puma_cd_name = pd.read_csv('../data/PUMA_CD_NAME.csv',index_col = 0)\n",
    "median_rents = pd.read_csv('../data/sub-borougharea-medianrentall2016.csv')\n",
    "median_rents = median_rents.merge(puma_cd_name, left_on = 'Sub-Borough Area', right_on = 'CD_Name', how = 'outer')\n",
    "median_rents = median_rents.set_index('puma')\n",
    "median_incomes = pd.read_csv('../data/sub-borougharea-medianhouseholdincome2016.csv')\n",
    "median_incomes = median_incomes.merge(puma_cd_name, left_on = 'Sub-Borough Area', right_on = 'CD_Name', how = 'outer')\n",
    "median_incomes = median_incomes.set_index('puma')\n",
    "education_levels = pd.read_csv('../data/sub-borougharea-populationaged25withabachelorsdegreeorhigher.csv')\n",
    "education_levels = education_levels.merge(puma_cd_name, left_on = 'Sub-Borough Area', right_on = 'CD_Name', how = 'outer')\n",
    "education_levels = education_levels.set_index('puma')\n",
    "percents_white = pd.read_csv('../data/sub-borougharea-percentwhite.csv')\n",
    "percents_white = percents_white.merge(puma_cd_name, left_on = 'Sub-Borough Area', right_on = 'CD_Name', how = 'outer')\n",
    "percents_white = percents_white.set_index('puma')\n",
    "nyc_median_incomes = pd.read_csv('../data/city-medianhouseholdincome2016.csv')\n",
    "nyc_median_rents = pd.read_csv('../data/city-medianrentall2016.csv')"
   ]
  },
  {
   "cell_type": "code",
<<<<<<< HEAD
   "execution_count": null,
   "metadata": {
    "collapsed": true
   },
   "outputs": [],
=======
   "execution_count": 379,
   "metadata": {},
   "outputs": [
    {
     "data": {
      "text/html": [
       "<div>\n",
       "<style>\n",
       "    .dataframe thead tr:only-child th {\n",
       "        text-align: right;\n",
       "    }\n",
       "\n",
       "    .dataframe thead th {\n",
       "        text-align: left;\n",
       "    }\n",
       "\n",
       "    .dataframe tbody tr th {\n",
       "        vertical-align: top;\n",
       "    }\n",
       "</style>\n",
       "<table border=\"1\" class=\"dataframe\">\n",
       "  <thead>\n",
       "    <tr style=\"text-align: right;\">\n",
       "      <th></th>\n",
       "      <th>0</th>\n",
       "      <th>1</th>\n",
       "      <th>2</th>\n",
       "      <th>3</th>\n",
       "      <th>4</th>\n",
       "      <th>5</th>\n",
       "      <th>6</th>\n",
       "      <th>7</th>\n",
       "      <th>8</th>\n",
       "      <th>9</th>\n",
       "      <th>...</th>\n",
       "      <th>45</th>\n",
       "      <th>46</th>\n",
       "      <th>47</th>\n",
       "      <th>48</th>\n",
       "      <th>49</th>\n",
       "      <th>50</th>\n",
       "      <th>51</th>\n",
       "      <th>52</th>\n",
       "      <th>53</th>\n",
       "      <th>54</th>\n",
       "    </tr>\n",
       "  </thead>\n",
       "  <tbody>\n",
       "    <tr>\n",
       "      <th>2005</th>\n",
       "      <td>1280</td>\n",
       "      <td>2010</td>\n",
       "      <td>930</td>\n",
       "      <td>1150</td>\n",
       "      <td>630</td>\n",
       "      <td>1000</td>\n",
       "      <td>1360</td>\n",
       "      <td>950</td>\n",
       "      <td>930</td>\n",
       "      <td>1410</td>\n",
       "      <td>...</td>\n",
       "      <td>1230</td>\n",
       "      <td>1890</td>\n",
       "      <td>1060</td>\n",
       "      <td>770</td>\n",
       "      <td>1080</td>\n",
       "      <td>770</td>\n",
       "      <td>1260</td>\n",
       "      <td>1010</td>\n",
       "      <td>810</td>\n",
       "      <td>1430</td>\n",
       "    </tr>\n",
       "    <tr>\n",
       "      <th>2006</th>\n",
       "      <td>1270</td>\n",
       "      <td>2100</td>\n",
       "      <td>950</td>\n",
       "      <td>1130</td>\n",
       "      <td>730</td>\n",
       "      <td>1020</td>\n",
       "      <td>1380</td>\n",
       "      <td>980</td>\n",
       "      <td>1030</td>\n",
       "      <td>1390</td>\n",
       "      <td>...</td>\n",
       "      <td>1320</td>\n",
       "      <td>1890</td>\n",
       "      <td>1070</td>\n",
       "      <td>670</td>\n",
       "      <td>1120</td>\n",
       "      <td>740</td>\n",
       "      <td>1250</td>\n",
       "      <td>1000</td>\n",
       "      <td>850</td>\n",
       "      <td>1450</td>\n",
       "    </tr>\n",
       "    <tr>\n",
       "      <th>2007</th>\n",
       "      <td>1340</td>\n",
       "      <td>2160</td>\n",
       "      <td>990</td>\n",
       "      <td>1210</td>\n",
       "      <td>720</td>\n",
       "      <td>990</td>\n",
       "      <td>1370</td>\n",
       "      <td>990</td>\n",
       "      <td>1050</td>\n",
       "      <td>1350</td>\n",
       "      <td>...</td>\n",
       "      <td>1290</td>\n",
       "      <td>1990</td>\n",
       "      <td>1050</td>\n",
       "      <td>700</td>\n",
       "      <td>1260</td>\n",
       "      <td>760</td>\n",
       "      <td>1280</td>\n",
       "      <td>1030</td>\n",
       "      <td>870</td>\n",
       "      <td>1450</td>\n",
       "    </tr>\n",
       "    <tr>\n",
       "      <th>2008</th>\n",
       "      <td>1280</td>\n",
       "      <td>2180</td>\n",
       "      <td>1000</td>\n",
       "      <td>1200</td>\n",
       "      <td>740</td>\n",
       "      <td>1010</td>\n",
       "      <td>1360</td>\n",
       "      <td>1020</td>\n",
       "      <td>1090</td>\n",
       "      <td>1380</td>\n",
       "      <td>...</td>\n",
       "      <td>1300</td>\n",
       "      <td>2000</td>\n",
       "      <td>1080</td>\n",
       "      <td>710</td>\n",
       "      <td>1200</td>\n",
       "      <td>820</td>\n",
       "      <td>1260</td>\n",
       "      <td>1050</td>\n",
       "      <td>870</td>\n",
       "      <td>1400</td>\n",
       "    </tr>\n",
       "    <tr>\n",
       "      <th>2009</th>\n",
       "      <td>1360</td>\n",
       "      <td>990</td>\n",
       "      <td>1000</td>\n",
       "      <td>1130</td>\n",
       "      <td>780</td>\n",
       "      <td>1040</td>\n",
       "      <td>1400</td>\n",
       "      <td>1030</td>\n",
       "      <td>1090</td>\n",
       "      <td>1340</td>\n",
       "      <td>...</td>\n",
       "      <td>1330</td>\n",
       "      <td>1970</td>\n",
       "      <td>1080</td>\n",
       "      <td>790</td>\n",
       "      <td>1320</td>\n",
       "      <td>880</td>\n",
       "      <td>1310</td>\n",
       "      <td>1090</td>\n",
       "      <td>910</td>\n",
       "      <td>1460</td>\n",
       "    </tr>\n",
       "    <tr>\n",
       "      <th>2010</th>\n",
       "      <td>1410</td>\n",
       "      <td>1530</td>\n",
       "      <td>1040</td>\n",
       "      <td>1240</td>\n",
       "      <td>770</td>\n",
       "      <td>1070</td>\n",
       "      <td>1450</td>\n",
       "      <td>1090</td>\n",
       "      <td>1120</td>\n",
       "      <td>1410</td>\n",
       "      <td>...</td>\n",
       "      <td>1330</td>\n",
       "      <td>1940</td>\n",
       "      <td>1150</td>\n",
       "      <td>880</td>\n",
       "      <td>1510</td>\n",
       "      <td>920</td>\n",
       "      <td>1360</td>\n",
       "      <td>1140</td>\n",
       "      <td>900</td>\n",
       "      <td>1490</td>\n",
       "    </tr>\n",
       "    <tr>\n",
       "      <th>2011</th>\n",
       "      <td>1430</td>\n",
       "      <td>1280</td>\n",
       "      <td>1040</td>\n",
       "      <td>1160</td>\n",
       "      <td>770</td>\n",
       "      <td>1130</td>\n",
       "      <td>1420</td>\n",
       "      <td>1030</td>\n",
       "      <td>1110</td>\n",
       "      <td>1370</td>\n",
       "      <td>...</td>\n",
       "      <td>1340</td>\n",
       "      <td>1960</td>\n",
       "      <td>1150</td>\n",
       "      <td>850</td>\n",
       "      <td>1460</td>\n",
       "      <td>890</td>\n",
       "      <td>1300</td>\n",
       "      <td>1160</td>\n",
       "      <td>930</td>\n",
       "      <td>1550</td>\n",
       "    </tr>\n",
       "    <tr>\n",
       "      <th>2012</th>\n",
       "      <td>1460</td>\n",
       "      <td>1360</td>\n",
       "      <td>1030</td>\n",
       "      <td>1120</td>\n",
       "      <td>780</td>\n",
       "      <td>1060</td>\n",
       "      <td>1390</td>\n",
       "      <td>1070</td>\n",
       "      <td>1050</td>\n",
       "      <td>1360</td>\n",
       "      <td>...</td>\n",
       "      <td>1390</td>\n",
       "      <td>2030</td>\n",
       "      <td>1160</td>\n",
       "      <td>970</td>\n",
       "      <td>1600</td>\n",
       "      <td>970</td>\n",
       "      <td>1290</td>\n",
       "      <td>1110</td>\n",
       "      <td>900</td>\n",
       "      <td>1440</td>\n",
       "    </tr>\n",
       "    <tr>\n",
       "      <th>2013</th>\n",
       "      <td>1460</td>\n",
       "      <td>1520</td>\n",
       "      <td>1110</td>\n",
       "      <td>1100</td>\n",
       "      <td>850</td>\n",
       "      <td>1070</td>\n",
       "      <td>1390</td>\n",
       "      <td>1040</td>\n",
       "      <td>1140</td>\n",
       "      <td>1350</td>\n",
       "      <td>...</td>\n",
       "      <td>1390</td>\n",
       "      <td>2010</td>\n",
       "      <td>1150</td>\n",
       "      <td>890</td>\n",
       "      <td>1530</td>\n",
       "      <td>890</td>\n",
       "      <td>1290</td>\n",
       "      <td>1150</td>\n",
       "      <td>940</td>\n",
       "      <td>1440</td>\n",
       "    </tr>\n",
       "    <tr>\n",
       "      <th>2014</th>\n",
       "      <td>1570</td>\n",
       "      <td>1300</td>\n",
       "      <td>1060</td>\n",
       "      <td>1130</td>\n",
       "      <td>830</td>\n",
       "      <td>1110</td>\n",
       "      <td>1390</td>\n",
       "      <td>1080</td>\n",
       "      <td>1070</td>\n",
       "      <td>1410</td>\n",
       "      <td>...</td>\n",
       "      <td>1420</td>\n",
       "      <td>1340</td>\n",
       "      <td>1180</td>\n",
       "      <td>870</td>\n",
       "      <td>1640</td>\n",
       "      <td>960</td>\n",
       "      <td>1340</td>\n",
       "      <td>1240</td>\n",
       "      <td>910</td>\n",
       "      <td>1520</td>\n",
       "    </tr>\n",
       "    <tr>\n",
       "      <th>2015</th>\n",
       "      <td>1600</td>\n",
       "      <td>2680</td>\n",
       "      <td>1100</td>\n",
       "      <td>1180</td>\n",
       "      <td>860</td>\n",
       "      <td>1130</td>\n",
       "      <td>1440</td>\n",
       "      <td>1110</td>\n",
       "      <td>1110</td>\n",
       "      <td>1430</td>\n",
       "      <td>...</td>\n",
       "      <td>1450</td>\n",
       "      <td>2110</td>\n",
       "      <td>1200</td>\n",
       "      <td>790</td>\n",
       "      <td>1760</td>\n",
       "      <td>870</td>\n",
       "      <td>1440</td>\n",
       "      <td>1260</td>\n",
       "      <td>960</td>\n",
       "      <td>1530</td>\n",
       "    </tr>\n",
       "    <tr>\n",
       "      <th>2016</th>\n",
       "      <td>1570</td>\n",
       "      <td>2530</td>\n",
       "      <td>1110</td>\n",
       "      <td>1220</td>\n",
       "      <td>950</td>\n",
       "      <td>1150</td>\n",
       "      <td>1510</td>\n",
       "      <td>1120</td>\n",
       "      <td>1130</td>\n",
       "      <td>1440</td>\n",
       "      <td>...</td>\n",
       "      <td>1470</td>\n",
       "      <td>2250</td>\n",
       "      <td>1190</td>\n",
       "      <td>880</td>\n",
       "      <td>1790</td>\n",
       "      <td>970</td>\n",
       "      <td>1490</td>\n",
       "      <td>1300</td>\n",
       "      <td>970</td>\n",
       "      <td>1510</td>\n",
       "    </tr>\n",
       "  </tbody>\n",
       "</table>\n",
       "<p>12 rows × 55 columns</p>\n",
       "</div>"
      ],
      "text/plain": [
       "        0     1     2     3    4     5     6     7     8     9   ...     45  \\\n",
       "2005  1280  2010   930  1150  630  1000  1360   950   930  1410  ...   1230   \n",
       "2006  1270  2100   950  1130  730  1020  1380   980  1030  1390  ...   1320   \n",
       "2007  1340  2160   990  1210  720   990  1370   990  1050  1350  ...   1290   \n",
       "2008  1280  2180  1000  1200  740  1010  1360  1020  1090  1380  ...   1300   \n",
       "2009  1360   990  1000  1130  780  1040  1400  1030  1090  1340  ...   1330   \n",
       "2010  1410  1530  1040  1240  770  1070  1450  1090  1120  1410  ...   1330   \n",
       "2011  1430  1280  1040  1160  770  1130  1420  1030  1110  1370  ...   1340   \n",
       "2012  1460  1360  1030  1120  780  1060  1390  1070  1050  1360  ...   1390   \n",
       "2013  1460  1520  1110  1100  850  1070  1390  1040  1140  1350  ...   1390   \n",
       "2014  1570  1300  1060  1130  830  1110  1390  1080  1070  1410  ...   1420   \n",
       "2015  1600  2680  1100  1180  860  1130  1440  1110  1110  1430  ...   1450   \n",
       "2016  1570  2530  1110  1220  950  1150  1510  1120  1130  1440  ...   1470   \n",
       "\n",
       "        46    47   48    49   50    51    52   53    54  \n",
       "2005  1890  1060  770  1080  770  1260  1010  810  1430  \n",
       "2006  1890  1070  670  1120  740  1250  1000  850  1450  \n",
       "2007  1990  1050  700  1260  760  1280  1030  870  1450  \n",
       "2008  2000  1080  710  1200  820  1260  1050  870  1400  \n",
       "2009  1970  1080  790  1320  880  1310  1090  910  1460  \n",
       "2010  1940  1150  880  1510  920  1360  1140  900  1490  \n",
       "2011  1960  1150  850  1460  890  1300  1160  930  1550  \n",
       "2012  2030  1160  970  1600  970  1290  1110  900  1440  \n",
       "2013  2010  1150  890  1530  890  1290  1150  940  1440  \n",
       "2014  1340  1180  870  1640  960  1340  1240  910  1520  \n",
       "2015  2110  1200  790  1760  870  1440  1260  960  1530  \n",
       "2016  2250  1190  880  1790  970  1490  1300  970  1510  \n",
       "\n",
       "[12 rows x 55 columns]"
      ]
     },
     "execution_count": 379,
     "metadata": {},
     "output_type": "execute_result"
    }
   ],
>>>>>>> d9a3a53771ccffcf0182d26684633232636f6583
   "source": [
    "years = [str(y) for y in range(2005,2017)]\n",
    "median_rents[years].transpose()"
   ]
  },
  {
   "cell_type": "code",
   "execution_count": null,
   "metadata": {},
   "outputs": [],
   "source": [
    "income_diffs = pd.DataFrame(index = median_incomes.index, columns=['Sub-Borough Area'])\n",
    "income_diffs['Sub-Borough Area'] = median_incomes['Sub-Borough Area']\n",
    "income_diffs['2005'] = median_incomes['2005'] - nyc_median_incomes['2005'][0]\n",
    "low_income = income_diffs['2005'] < income_diffs['2005'].quantile(q=0.4)\n",
    "income_diffs[low_income]['Sub-Borough Area']"
   ]
  },
  {
   "cell_type": "code",
<<<<<<< HEAD
   "execution_count": 5,
   "metadata": {},
   "outputs": [
    {
     "ename": "NameError",
     "evalue": "name 'median_rents' is not defined",
     "output_type": "error",
     "traceback": [
      "\u001b[0;31m---------------------------------------------------------------------------\u001b[0m",
      "\u001b[0;31mNameError\u001b[0m                                 Traceback (most recent call last)",
      "\u001b[0;32m<ipython-input-5-7b754f4e3353>\u001b[0m in \u001b[0;36m<module>\u001b[0;34m()\u001b[0m\n\u001b[0;32m----> 1\u001b[0;31m \u001b[0mmedian_rents\u001b[0m\u001b[0;34m[\u001b[0m\u001b[0;34m'Sub-Borough Area'\u001b[0m\u001b[0;34m]\u001b[0m\u001b[0;34m\u001b[0m\u001b[0m\n\u001b[0m",
      "\u001b[0;31mNameError\u001b[0m: name 'median_rents' is not defined"
     ]
=======
   "execution_count": 485,
   "metadata": {},
   "outputs": [
    {
     "data": {
      "image/png": "iVBORw0KGgoAAAANSUhEUgAAAU8AAAD8CAYAAAD35CadAAAABHNCSVQICAgIfAhkiAAAAAlwSFlz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\nAAAASUVORK5CYII=\n",
      "text/plain": [
       "<matplotlib.figure.Figure at 0x1a1ccda250>"
      ]
     },
     "metadata": {},
     "output_type": "display_data"
>>>>>>> d9a3a53771ccffcf0182d26684633232636f6583
    }
   ],
   "source": [
    "sbas = gpd.read_file('../data/Public Use Microdata Areas (PUMA)/')\n",
    "sbas['puma'] = sbas['puma'].astype('int64')\n",
    "sbas.plot(cmap='gist_earth')\n",
    "plt.show()"
   ]
  },
  {
   "cell_type": "code",
   "execution_count": 486,
   "metadata": {},
   "outputs": [],
   "source": [
    "sbas = sbas.merge(puma_cd_name, on='puma')"
   ]
  },
  {
   "cell_type": "code",
   "execution_count": 487,
   "metadata": {},
   "outputs": [],
   "source": [
    "puma_cd['cd'] = puma_cd['cd'].str.replace(\" \", \"\")\n",
    "sbas['cd'] = sbas['cd'].str.replace(\" \",\"\")"
   ]
  },
  {
   "cell_type": "code",
   "execution_count": 488,
   "metadata": {
    "collapsed": true
   },
   "outputs": [],
   "source": [
    "G = nx.Graph()\n",
    "G.add_nodes_from(sbas.index)\n",
    "n = len(sbas.index)\n",
    "for i,row in sbas.iterrows():\n",
    "    for j in range(i+1,n):\n",
    "        if row['geometry'].touches(sbas.loc[j]['geometry']):\n",
    "            dist = row['geometry'].centroid.distance(sbas.loc[j]['geometry'].centroid) \n",
    "            G.add_edge(i,j, weight=dist)"
   ]
  },
  {
   "cell_type": "code",
<<<<<<< HEAD
   "execution_count": null,
   "metadata": {},
   "outputs": [],
   "source": []
  },
  {
   "cell_type": "code",
   "execution_count": 6,
=======
   "execution_count": 489,
   "metadata": {},
   "outputs": [
    {
     "data": {
      "image/png": "iVBORw0KGgoAAAANSUhEUgAAAeUAAAFCCAYAAADPKcU0AAAABHNCSVQICAgIfAhkiAAAAAlwSFlz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\nygAAWOK/216rd78VPtsAAAAASUVORK5CYII=\n",
      "text/plain": [
       "<matplotlib.figure.Figure at 0x1a1cf78090>"
      ]
     },
     "metadata": {},
     "output_type": "display_data"
    }
   ],
   "source": [
    "nx.draw(G, pos = sbas['geometry'].centroid.map(lambda p: (p.x,p.y)).to_dict(), node_size=100, node_color=range(n), cmap=plt.cm.gist_earth)\n",
    "plt.show()"
   ]
  },
  {
   "cell_type": "code",
   "execution_count": 666,
   "metadata": {},
   "outputs": [],
   "source": [
    "years = ['2000'] + [str(y) for y in range(2005,2017)]\n",
    "columns = ['cd'] + years\n",
    "# neighbor_mean = np.zeros(len(sbas.index), len(years))\n",
    "# moransi = np.zeros(len(sbas.index), len(years))\n",
    "mean_rents = median_rents.mean()\n",
    "neighbor_means = pd.DataFrame()\n",
    "for v in G.nodes():\n",
    "    puma = sbas.iloc[v]['puma']\n",
    "    neighbors = G[v].keys()\n",
    "    neighbor_cds = list(sbas.iloc[neighbors]['cd'])\n",
    "    rent_rows = median_rents[median_rents['cd'].isin(neighbor_cds)][columns]\n",
    "    mean_row = rent_rows.mean()\n",
    "    mean_row['puma'] = puma\n",
    "    neighbor_means = neighbor_means.append(mean_row, ignore_index=True)"
   ]
  },
  {
   "cell_type": "code",
   "execution_count": 667,
   "metadata": {},
   "outputs": [],
   "source": [
    "neighbor_means['puma'] = neighbor_means['puma'].astype('int64')\n",
    "neighbor_means = neighbor_means.merge(puma_cd_name, on = 'puma')\n",
    "neighbor_means = neighbor_means.set_index('puma')"
   ]
  },
  {
   "cell_type": "code",
   "execution_count": 661,
   "metadata": {},
   "outputs": [],
   "source": [
    "wmatrix = pysal.weights.WSP(nx.adj_matrix(G))"
   ]
  },
  {
   "cell_type": "code",
   "execution_count": 500,
   "metadata": {},
   "outputs": [],
   "source": [
    "subways = pd.read_csv('../data/communitydistrict-residentialunitswithin12mileofasubwaystation.csv')"
   ]
  },
  {
   "cell_type": "code",
   "execution_count": 501,
   "metadata": {},
   "outputs": [],
   "source": [
    "subways['cd'], subways['CD_Name'] = subways['Community District'].str.split(\" - \",1).str\n",
    "subways['cd'] = subways['cd'].str.replace(\" \", \"\")"
   ]
  },
  {
   "cell_type": "code",
   "execution_count": 492,
>>>>>>> d9a3a53771ccffcf0182d26684633232636f6583
   "metadata": {},
   "outputs": [],
   "source": [
    "# # Merge community district data into PUMAs based on 2010 census\n",
    "housing_units = pd.read_csv('../data/community_district_housing_units2010.csv')\n",
    "housing_units['cd'] = housing_units['Community_District'].str.lstrip()\n",
    "housing_units['cd'] = housing_units['cd'].str.rstrip()\n",
    "housing_units['Borough'], housing_units['CD_Number'] = housing_units['cd'].str.split(\" \",1).str\n",
    "housing_units['CD_Number']= housing_units['CD_Number'].str.zfill(2)\n",
    "housing_units['cd'] = housing_units['Borough'] + housing_units['CD_Number']\n",
    "housing_units = housing_units[['cd', 'Units']]\n",
    "housing_units['Units'] = housing_units['Units'].str.replace(',','').astype('int64')"
   ]
  },
  {
   "cell_type": "code",
   "execution_count": 603,
   "metadata": {
    "scrolled": true
   },
   "outputs": [
    {
<<<<<<< HEAD
     "ename": "NameError",
     "evalue": "name 'rent_increases' is not defined",
     "output_type": "error",
     "traceback": [
      "\u001b[0;31m---------------------------------------------------------------------------\u001b[0m",
      "\u001b[0;31mNameError\u001b[0m                                 Traceback (most recent call last)",
      "\u001b[0;32m<ipython-input-6-1e8278ec3689>\u001b[0m in \u001b[0;36m<module>\u001b[0;34m()\u001b[0m\n\u001b[0;32m----> 1\u001b[0;31m \u001b[0mrent_increases\u001b[0m\u001b[0;34m\u001b[0m\u001b[0m\n\u001b[0m",
      "\u001b[0;31mNameError\u001b[0m: name 'rent_increases' is not defined"
     ]
    }
   ],
   "source": [
    "rent_increases"
   ]
  },
  {
   "cell_type": "code",
   "execution_count": 7,
   "metadata": {},
   "outputs": [
    {
     "ename": "NameError",
     "evalue": "name 'median_rents' is not defined",
     "output_type": "error",
     "traceback": [
      "\u001b[0;31m---------------------------------------------------------------------------\u001b[0m",
      "\u001b[0;31mNameError\u001b[0m                                 Traceback (most recent call last)",
      "\u001b[0;32m<ipython-input-7-ad3be1fc6371>\u001b[0m in \u001b[0;36m<module>\u001b[0;34m()\u001b[0m\n\u001b[0;32m----> 1\u001b[0;31m \u001b[0max\u001b[0m \u001b[0;34m=\u001b[0m \u001b[0mmedian_rents\u001b[0m\u001b[0;34m.\u001b[0m\u001b[0mset_index\u001b[0m\u001b[0;34m(\u001b[0m\u001b[0;34m'Sub-Borough Area'\u001b[0m\u001b[0;34m)\u001b[0m\u001b[0;34m[\u001b[0m\u001b[0myears\u001b[0m\u001b[0;34m]\u001b[0m\u001b[0;34m.\u001b[0m\u001b[0mtranspose\u001b[0m\u001b[0;34m(\u001b[0m\u001b[0;34m)\u001b[0m\u001b[0;34m.\u001b[0m\u001b[0mplot\u001b[0m\u001b[0;34m(\u001b[0m\u001b[0mlegend\u001b[0m\u001b[0;34m=\u001b[0m\u001b[0;32mFalse\u001b[0m\u001b[0;34m)\u001b[0m\u001b[0;34m\u001b[0m\u001b[0m\n\u001b[0m\u001b[1;32m      2\u001b[0m \u001b[0mnyc_median_rents\u001b[0m\u001b[0;34m[\u001b[0m\u001b[0myears\u001b[0m\u001b[0;34m]\u001b[0m\u001b[0;34m.\u001b[0m\u001b[0mtranspose\u001b[0m\u001b[0;34m(\u001b[0m\u001b[0;34m)\u001b[0m\u001b[0;34m.\u001b[0m\u001b[0mplot\u001b[0m\u001b[0;34m(\u001b[0m\u001b[0mlegend\u001b[0m\u001b[0;34m=\u001b[0m\u001b[0;32mFalse\u001b[0m\u001b[0;34m,\u001b[0m \u001b[0mlinewidth\u001b[0m\u001b[0;34m=\u001b[0m\u001b[0;36m5.0\u001b[0m\u001b[0;34m,\u001b[0m \u001b[0max\u001b[0m\u001b[0;34m=\u001b[0m\u001b[0max\u001b[0m\u001b[0;34m)\u001b[0m\u001b[0;34m\u001b[0m\u001b[0m\n\u001b[1;32m      3\u001b[0m \u001b[0mplt\u001b[0m\u001b[0;34m.\u001b[0m\u001b[0mshow\u001b[0m\u001b[0;34m(\u001b[0m\u001b[0;34m)\u001b[0m\u001b[0;34m\u001b[0m\u001b[0m\n",
      "\u001b[0;31mNameError\u001b[0m: name 'median_rents' is not defined"
     ]
    }
   ],
   "source": [
    "ax = median_rents.set_index('Sub-Borough Area')[years].transpose().plot(legend=False)\n",
    "nyc_median_rents[years].transpose().plot(legend=False, linewidth=5.0, ax=ax)\n",
    "plt.show()"
   ]
  },
  {
   "cell_type": "code",
   "execution_count": 8,
   "metadata": {},
   "outputs": [
    {
     "ename": "NameError",
     "evalue": "name 'rent_increases' is not defined",
     "output_type": "error",
     "traceback": [
      "\u001b[0;31m---------------------------------------------------------------------------\u001b[0m",
      "\u001b[0;31mNameError\u001b[0m                                 Traceback (most recent call last)",
      "\u001b[0;32m<ipython-input-8-2be5f1c4b0b4>\u001b[0m in \u001b[0;36m<module>\u001b[0;34m()\u001b[0m\n\u001b[0;32m----> 1\u001b[0;31m \u001b[0mrent_increases_pct\u001b[0m \u001b[0;34m=\u001b[0m \u001b[0mrent_increases\u001b[0m \u001b[0;34m*\u001b[0m \u001b[0;36m100\u001b[0m\u001b[0;34m\u001b[0m\u001b[0m\n\u001b[0m\u001b[1;32m      2\u001b[0m \u001b[0mrent_increases_pct\u001b[0m\u001b[0;34m[\u001b[0m\u001b[0mlow_income\u001b[0m\u001b[0;34m]\u001b[0m\u001b[0;34m.\u001b[0m\u001b[0mset_index\u001b[0m\u001b[0;34m(\u001b[0m\u001b[0;34m'Sub-Borough Area'\u001b[0m\u001b[0;34m)\u001b[0m\u001b[0;34m.\u001b[0m\u001b[0mtranspose\u001b[0m\u001b[0;34m(\u001b[0m\u001b[0;34m)\u001b[0m\u001b[0;34m.\u001b[0m\u001b[0mplot\u001b[0m\u001b[0;34m(\u001b[0m\u001b[0mlegend\u001b[0m\u001b[0;34m=\u001b[0m\u001b[0;32mFalse\u001b[0m\u001b[0;34m,\u001b[0m\u001b[0mtitle\u001b[0m\u001b[0;34m=\u001b[0m\u001b[0;34m'Rent Increases in Low-Income Neighborhoods Normalized to NYC Median Rent Increase'\u001b[0m\u001b[0;34m)\u001b[0m\u001b[0;34m\u001b[0m\u001b[0m\n\u001b[1;32m      3\u001b[0m \u001b[0mplt\u001b[0m\u001b[0;34m.\u001b[0m\u001b[0mxlabel\u001b[0m\u001b[0;34m(\u001b[0m\u001b[0;34m'Year'\u001b[0m\u001b[0;34m)\u001b[0m\u001b[0;34m\u001b[0m\u001b[0m\n\u001b[1;32m      4\u001b[0m \u001b[0mplt\u001b[0m\u001b[0;34m.\u001b[0m\u001b[0mylabel\u001b[0m\u001b[0;34m(\u001b[0m\u001b[0;34m'Percent Increase'\u001b[0m\u001b[0;34m)\u001b[0m\u001b[0;34m\u001b[0m\u001b[0m\n\u001b[1;32m      5\u001b[0m \u001b[0mplt\u001b[0m\u001b[0;34m.\u001b[0m\u001b[0mshow\u001b[0m\u001b[0;34m(\u001b[0m\u001b[0;34m)\u001b[0m\u001b[0;34m\u001b[0m\u001b[0m\n",
      "\u001b[0;31mNameError\u001b[0m: name 'rent_increases' is not defined"
     ]
    }
   ],
   "source": [
    "rent_increases_pct = rent_increases * 100\n",
    "rent_increases_pct[low_income].set_index('Sub-Borough Area').transpose().plot(legend=False,title='Rent Increases in Low-Income Neighborhoods Normalized to NYC Median Rent Increase')\n",
    "plt.xlabel('Year')\n",
    "plt.ylabel('Percent Increase')\n",
    "plt.show()"
   ]
  },
  {
   "cell_type": "code",
   "execution_count": 9,
   "metadata": {},
   "outputs": [
    {
     "ename": "NameError",
     "evalue": "name 'gpd' is not defined",
     "output_type": "error",
     "traceback": [
      "\u001b[0;31m---------------------------------------------------------------------------\u001b[0m",
      "\u001b[0;31mNameError\u001b[0m                                 Traceback (most recent call last)",
      "\u001b[0;32m<ipython-input-9-1f69c2ff2fac>\u001b[0m in \u001b[0;36m<module>\u001b[0;34m()\u001b[0m\n\u001b[0;32m----> 1\u001b[0;31m \u001b[0msbas\u001b[0m \u001b[0;34m=\u001b[0m \u001b[0mgpd\u001b[0m\u001b[0;34m.\u001b[0m\u001b[0mread_file\u001b[0m\u001b[0;34m(\u001b[0m\u001b[0;34m'../data/Public Use Microdata Areas (PUMA)/'\u001b[0m\u001b[0;34m)\u001b[0m\u001b[0;34m\u001b[0m\u001b[0m\n\u001b[0m\u001b[1;32m      2\u001b[0m \u001b[0msbas\u001b[0m\u001b[0;34m[\u001b[0m\u001b[0;34m'puma'\u001b[0m\u001b[0;34m]\u001b[0m \u001b[0;34m=\u001b[0m \u001b[0msbas\u001b[0m\u001b[0;34m[\u001b[0m\u001b[0;34m'puma'\u001b[0m\u001b[0;34m]\u001b[0m\u001b[0;34m.\u001b[0m\u001b[0mastype\u001b[0m\u001b[0;34m(\u001b[0m\u001b[0;34m'int64'\u001b[0m\u001b[0;34m)\u001b[0m\u001b[0;34m\u001b[0m\u001b[0m\n\u001b[1;32m      3\u001b[0m \u001b[0msbas\u001b[0m\u001b[0;34m.\u001b[0m\u001b[0mplot\u001b[0m\u001b[0;34m(\u001b[0m\u001b[0mcmap\u001b[0m\u001b[0;34m=\u001b[0m\u001b[0;34m'gist_earth'\u001b[0m\u001b[0;34m)\u001b[0m\u001b[0;34m\u001b[0m\u001b[0m\n\u001b[1;32m      4\u001b[0m \u001b[0mplt\u001b[0m\u001b[0;34m.\u001b[0m\u001b[0mshow\u001b[0m\u001b[0;34m(\u001b[0m\u001b[0;34m)\u001b[0m\u001b[0;34m\u001b[0m\u001b[0m\n",
      "\u001b[0;31mNameError\u001b[0m: name 'gpd' is not defined"
     ]
    }
   ],
   "source": [
    "sbas = gpd.read_file('../data/Public Use Microdata Areas (PUMA)/')\n",
    "sbas['puma'] = sbas['puma'].astype('int64')\n",
    "sbas.plot(cmap='gist_earth')\n",
    "plt.show()"
=======
     "data": {
      "text/html": [
       "<div>\n",
       "<style>\n",
       "    .dataframe thead tr:only-child th {\n",
       "        text-align: right;\n",
       "    }\n",
       "\n",
       "    .dataframe thead th {\n",
       "        text-align: left;\n",
       "    }\n",
       "\n",
       "    .dataframe tbody tr th {\n",
       "        vertical-align: top;\n",
       "    }\n",
       "</style>\n",
       "<table border=\"1\" class=\"dataframe\">\n",
       "  <thead>\n",
       "    <tr style=\"text-align: right;\">\n",
       "      <th></th>\n",
       "      <th>cd</th>\n",
       "      <th>Population</th>\n",
       "    </tr>\n",
       "  </thead>\n",
       "  <tbody>\n",
       "    <tr>\n",
       "      <th>0</th>\n",
       "      <td>BX01</td>\n",
       "      <td>91497</td>\n",
       "    </tr>\n",
       "    <tr>\n",
       "      <th>1</th>\n",
       "      <td>BX02</td>\n",
       "      <td>52246</td>\n",
       "    </tr>\n",
       "    <tr>\n",
       "      <th>2</th>\n",
       "      <td>BX03</td>\n",
       "      <td>79762</td>\n",
       "    </tr>\n",
       "    <tr>\n",
       "      <th>3</th>\n",
       "      <td>BX04</td>\n",
       "      <td>146441</td>\n",
       "    </tr>\n",
       "    <tr>\n",
       "      <th>4</th>\n",
       "      <td>BX05</td>\n",
       "      <td>128200</td>\n",
       "    </tr>\n",
       "    <tr>\n",
       "      <th>5</th>\n",
       "      <td>BX06</td>\n",
       "      <td>83268</td>\n",
       "    </tr>\n",
       "    <tr>\n",
       "      <th>6</th>\n",
       "      <td>BX07</td>\n",
       "      <td>139286</td>\n",
       "    </tr>\n",
       "    <tr>\n",
       "      <th>7</th>\n",
       "      <td>BX08</td>\n",
       "      <td>101731</td>\n",
       "    </tr>\n",
       "    <tr>\n",
       "      <th>8</th>\n",
       "      <td>BX09</td>\n",
       "      <td>172298</td>\n",
       "    </tr>\n",
       "    <tr>\n",
       "      <th>9</th>\n",
       "      <td>BX10</td>\n",
       "      <td>120392</td>\n",
       "    </tr>\n",
       "    <tr>\n",
       "      <th>10</th>\n",
       "      <td>BX11</td>\n",
       "      <td>113232</td>\n",
       "    </tr>\n",
       "    <tr>\n",
       "      <th>11</th>\n",
       "      <td>BX12</td>\n",
       "      <td>152344</td>\n",
       "    </tr>\n",
       "    <tr>\n",
       "      <th>12</th>\n",
       "      <td>BK01</td>\n",
       "      <td>173083</td>\n",
       "    </tr>\n",
       "    <tr>\n",
       "      <th>13</th>\n",
       "      <td>BK02</td>\n",
       "      <td>99617</td>\n",
       "    </tr>\n",
       "    <tr>\n",
       "      <th>14</th>\n",
       "      <td>BK03</td>\n",
       "      <td>152985</td>\n",
       "    </tr>\n",
       "    <tr>\n",
       "      <th>15</th>\n",
       "      <td>BK04</td>\n",
       "      <td>112634</td>\n",
       "    </tr>\n",
       "    <tr>\n",
       "      <th>16</th>\n",
       "      <td>BK05</td>\n",
       "      <td>182896</td>\n",
       "    </tr>\n",
       "    <tr>\n",
       "      <th>17</th>\n",
       "      <td>BK06</td>\n",
       "      <td>104709</td>\n",
       "    </tr>\n",
       "    <tr>\n",
       "      <th>18</th>\n",
       "      <td>BK07</td>\n",
       "      <td>126230</td>\n",
       "    </tr>\n",
       "    <tr>\n",
       "      <th>19</th>\n",
       "      <td>BK08</td>\n",
       "      <td>96317</td>\n",
       "    </tr>\n",
       "    <tr>\n",
       "      <th>20</th>\n",
       "      <td>BK09</td>\n",
       "      <td>98429</td>\n",
       "    </tr>\n",
       "    <tr>\n",
       "      <th>21</th>\n",
       "      <td>BK10</td>\n",
       "      <td>124491</td>\n",
       "    </tr>\n",
       "    <tr>\n",
       "      <th>22</th>\n",
       "      <td>BK11</td>\n",
       "      <td>181981</td>\n",
       "    </tr>\n",
       "    <tr>\n",
       "      <th>23</th>\n",
       "      <td>BK12</td>\n",
       "      <td>191382</td>\n",
       "    </tr>\n",
       "    <tr>\n",
       "      <th>24</th>\n",
       "      <td>BK13</td>\n",
       "      <td>104278</td>\n",
       "    </tr>\n",
       "    <tr>\n",
       "      <th>25</th>\n",
       "      <td>BK14</td>\n",
       "      <td>160664</td>\n",
       "    </tr>\n",
       "    <tr>\n",
       "      <th>26</th>\n",
       "      <td>BK15</td>\n",
       "      <td>159650</td>\n",
       "    </tr>\n",
       "    <tr>\n",
       "      <th>27</th>\n",
       "      <td>BK16</td>\n",
       "      <td>86468</td>\n",
       "    </tr>\n",
       "    <tr>\n",
       "      <th>28</th>\n",
       "      <td>BK17</td>\n",
       "      <td>155252</td>\n",
       "    </tr>\n",
       "    <tr>\n",
       "      <th>29</th>\n",
       "      <td>BK18</td>\n",
       "      <td>193543</td>\n",
       "    </tr>\n",
       "    <tr>\n",
       "      <th>30</th>\n",
       "      <td>MN01</td>\n",
       "      <td>60978</td>\n",
       "    </tr>\n",
       "    <tr>\n",
       "      <th>31</th>\n",
       "      <td>MN02</td>\n",
       "      <td>90016</td>\n",
       "    </tr>\n",
       "    <tr>\n",
       "      <th>32</th>\n",
       "      <td>MN03</td>\n",
       "      <td>163277</td>\n",
       "    </tr>\n",
       "    <tr>\n",
       "      <th>33</th>\n",
       "      <td>MN04</td>\n",
       "      <td>103245</td>\n",
       "    </tr>\n",
       "    <tr>\n",
       "      <th>34</th>\n",
       "      <td>MN05</td>\n",
       "      <td>51673</td>\n",
       "    </tr>\n",
       "    <tr>\n",
       "      <th>35</th>\n",
       "      <td>MN06</td>\n",
       "      <td>142745</td>\n",
       "    </tr>\n",
       "    <tr>\n",
       "      <th>36</th>\n",
       "      <td>MN07</td>\n",
       "      <td>209084</td>\n",
       "    </tr>\n",
       "    <tr>\n",
       "      <th>37</th>\n",
       "      <td>MN08</td>\n",
       "      <td>219920</td>\n",
       "    </tr>\n",
       "    <tr>\n",
       "      <th>38</th>\n",
       "      <td>MN09</td>\n",
       "      <td>110193</td>\n",
       "    </tr>\n",
       "    <tr>\n",
       "      <th>39</th>\n",
       "      <td>MN10</td>\n",
       "      <td>115723</td>\n",
       "    </tr>\n",
       "    <tr>\n",
       "      <th>40</th>\n",
       "      <td>MN11</td>\n",
       "      <td>120511</td>\n",
       "    </tr>\n",
       "    <tr>\n",
       "      <th>41</th>\n",
       "      <td>MN12</td>\n",
       "      <td>190020</td>\n",
       "    </tr>\n",
       "    <tr>\n",
       "      <th>42</th>\n",
       "      <td>QN01</td>\n",
       "      <td>191105</td>\n",
       "    </tr>\n",
       "    <tr>\n",
       "      <th>43</th>\n",
       "      <td>QN02</td>\n",
       "      <td>113200</td>\n",
       "    </tr>\n",
       "    <tr>\n",
       "      <th>44</th>\n",
       "      <td>QN03</td>\n",
       "      <td>171576</td>\n",
       "    </tr>\n",
       "    <tr>\n",
       "      <th>45</th>\n",
       "      <td>QN04</td>\n",
       "      <td>172598</td>\n",
       "    </tr>\n",
       "    <tr>\n",
       "      <th>46</th>\n",
       "      <td>QN05</td>\n",
       "      <td>169190</td>\n",
       "    </tr>\n",
       "    <tr>\n",
       "      <th>47</th>\n",
       "      <td>QN06</td>\n",
       "      <td>113257</td>\n",
       "    </tr>\n",
       "    <tr>\n",
       "      <th>48</th>\n",
       "      <td>QN07</td>\n",
       "      <td>247354</td>\n",
       "    </tr>\n",
       "    <tr>\n",
       "      <th>49</th>\n",
       "      <td>QN08</td>\n",
       "      <td>151107</td>\n",
       "    </tr>\n",
       "    <tr>\n",
       "      <th>50</th>\n",
       "      <td>QN09</td>\n",
       "      <td>143317</td>\n",
       "    </tr>\n",
       "    <tr>\n",
       "      <th>51</th>\n",
       "      <td>QN10</td>\n",
       "      <td>122396</td>\n",
       "    </tr>\n",
       "    <tr>\n",
       "      <th>52</th>\n",
       "      <td>QN11</td>\n",
       "      <td>116431</td>\n",
       "    </tr>\n",
       "    <tr>\n",
       "      <th>53</th>\n",
       "      <td>QN12</td>\n",
       "      <td>225919</td>\n",
       "    </tr>\n",
       "    <tr>\n",
       "      <th>54</th>\n",
       "      <td>QN13</td>\n",
       "      <td>188593</td>\n",
       "    </tr>\n",
       "    <tr>\n",
       "      <th>55</th>\n",
       "      <td>QN14</td>\n",
       "      <td>114978</td>\n",
       "    </tr>\n",
       "    <tr>\n",
       "      <th>56</th>\n",
       "      <td>SI01</td>\n",
       "      <td>175756</td>\n",
       "    </tr>\n",
       "    <tr>\n",
       "      <th>57</th>\n",
       "      <td>SI02</td>\n",
       "      <td>132003</td>\n",
       "    </tr>\n",
       "    <tr>\n",
       "      <th>58</th>\n",
       "      <td>SI03</td>\n",
       "      <td>160209</td>\n",
       "    </tr>\n",
       "  </tbody>\n",
       "</table>\n",
       "</div>"
      ],
      "text/plain": [
       "      cd  Population\n",
       "0   BX01       91497\n",
       "1   BX02       52246\n",
       "2   BX03       79762\n",
       "3   BX04      146441\n",
       "4   BX05      128200\n",
       "5   BX06       83268\n",
       "6   BX07      139286\n",
       "7   BX08      101731\n",
       "8   BX09      172298\n",
       "9   BX10      120392\n",
       "10  BX11      113232\n",
       "11  BX12      152344\n",
       "12  BK01      173083\n",
       "13  BK02       99617\n",
       "14  BK03      152985\n",
       "15  BK04      112634\n",
       "16  BK05      182896\n",
       "17  BK06      104709\n",
       "18  BK07      126230\n",
       "19  BK08       96317\n",
       "20  BK09       98429\n",
       "21  BK10      124491\n",
       "22  BK11      181981\n",
       "23  BK12      191382\n",
       "24  BK13      104278\n",
       "25  BK14      160664\n",
       "26  BK15      159650\n",
       "27  BK16       86468\n",
       "28  BK17      155252\n",
       "29  BK18      193543\n",
       "30  MN01       60978\n",
       "31  MN02       90016\n",
       "32  MN03      163277\n",
       "33  MN04      103245\n",
       "34  MN05       51673\n",
       "35  MN06      142745\n",
       "36  MN07      209084\n",
       "37  MN08      219920\n",
       "38  MN09      110193\n",
       "39  MN10      115723\n",
       "40  MN11      120511\n",
       "41  MN12      190020\n",
       "42  QN01      191105\n",
       "43  QN02      113200\n",
       "44  QN03      171576\n",
       "45  QN04      172598\n",
       "46  QN05      169190\n",
       "47  QN06      113257\n",
       "48  QN07      247354\n",
       "49  QN08      151107\n",
       "50  QN09      143317\n",
       "51  QN10      122396\n",
       "52  QN11      116431\n",
       "53  QN12      225919\n",
       "54  QN13      188593\n",
       "55  QN14      114978\n",
       "56  SI01      175756\n",
       "57  SI02      132003\n",
       "58  SI03      160209"
      ]
     },
     "execution_count": 603,
     "metadata": {},
     "output_type": "execute_result"
    }
   ],
   "source": [
    "population = pd.read_csv('../data/community_district_population2010.csv')\n",
    "population['cd'] = population['Community_District'].str.lstrip()\n",
    "population['cd'] = population['cd'].str.rstrip()\n",
    "population['Borough'], population['CD_Number'] = population['cd'].str.split(\" \",1).str\n",
    "population['CD_Number']= population['CD_Number'].str.zfill(2)\n",
    "population['cd'] = population['Borough'] + population['CD_Number']\n",
    "population = population[['cd', 'Population']]"
>>>>>>> d9a3a53771ccffcf0182d26684633232636f6583
   ]
  },
  {
   "cell_type": "code",
<<<<<<< HEAD
   "execution_count": 10,
=======
   "execution_count": 502,
>>>>>>> d9a3a53771ccffcf0182d26684633232636f6583
   "metadata": {},
   "outputs": [
    {
     "ename": "FileNotFoundError",
     "evalue": "File b'../data/PUMA_CD.csv' does not exist",
     "output_type": "error",
     "traceback": [
      "\u001b[0;31m---------------------------------------------------------------------------\u001b[0m",
      "\u001b[0;31mFileNotFoundError\u001b[0m                         Traceback (most recent call last)",
      "\u001b[0;32m<ipython-input-10-a735dc7a8857>\u001b[0m in \u001b[0;36m<module>\u001b[0;34m()\u001b[0m\n\u001b[0;32m----> 1\u001b[0;31m \u001b[0mpuma_cd\u001b[0m \u001b[0;34m=\u001b[0m \u001b[0mpd\u001b[0m\u001b[0;34m.\u001b[0m\u001b[0mread_csv\u001b[0m\u001b[0;34m(\u001b[0m\u001b[0;34m'../data/PUMA_CD.csv'\u001b[0m\u001b[0;34m)\u001b[0m\u001b[0;34m\u001b[0m\u001b[0m\n\u001b[0m\u001b[1;32m      2\u001b[0m \u001b[0mpuma_cd\u001b[0m\u001b[0;34m[\u001b[0m\u001b[0;34m'puma'\u001b[0m\u001b[0;34m]\u001b[0m \u001b[0;34m=\u001b[0m \u001b[0mpuma_cd\u001b[0m\u001b[0;34m[\u001b[0m\u001b[0;34m'puma'\u001b[0m\u001b[0;34m]\u001b[0m\u001b[0;34m.\u001b[0m\u001b[0mastype\u001b[0m\u001b[0;34m(\u001b[0m\u001b[0;34m'int64'\u001b[0m\u001b[0;34m)\u001b[0m\u001b[0;34m\u001b[0m\u001b[0m\n\u001b[1;32m      3\u001b[0m \u001b[0msbas\u001b[0m \u001b[0;34m=\u001b[0m \u001b[0msbas\u001b[0m\u001b[0;34m.\u001b[0m\u001b[0mmerge\u001b[0m\u001b[0;34m(\u001b[0m\u001b[0mpuma_cd\u001b[0m\u001b[0;34m,\u001b[0m \u001b[0mhow\u001b[0m\u001b[0;34m=\u001b[0m\u001b[0;34m'outer'\u001b[0m\u001b[0;34m,\u001b[0m \u001b[0mon\u001b[0m\u001b[0;34m=\u001b[0m\u001b[0;34m'puma'\u001b[0m\u001b[0;34m)\u001b[0m\u001b[0;34m\u001b[0m\u001b[0m\n",
      "\u001b[0;32m~/anaconda3/lib/python3.6/site-packages/pandas/io/parsers.py\u001b[0m in \u001b[0;36mparser_f\u001b[0;34m(filepath_or_buffer, sep, delimiter, header, names, index_col, usecols, squeeze, prefix, mangle_dupe_cols, dtype, engine, converters, true_values, false_values, skipinitialspace, skiprows, nrows, na_values, keep_default_na, na_filter, verbose, skip_blank_lines, parse_dates, infer_datetime_format, keep_date_col, date_parser, dayfirst, iterator, chunksize, compression, thousands, decimal, lineterminator, quotechar, quoting, escapechar, comment, encoding, dialect, tupleize_cols, error_bad_lines, warn_bad_lines, skipfooter, skip_footer, doublequote, delim_whitespace, as_recarray, compact_ints, use_unsigned, low_memory, buffer_lines, memory_map, float_precision)\u001b[0m\n\u001b[1;32m    653\u001b[0m                     skip_blank_lines=skip_blank_lines)\n\u001b[1;32m    654\u001b[0m \u001b[0;34m\u001b[0m\u001b[0m\n\u001b[0;32m--> 655\u001b[0;31m         \u001b[0;32mreturn\u001b[0m \u001b[0m_read\u001b[0m\u001b[0;34m(\u001b[0m\u001b[0mfilepath_or_buffer\u001b[0m\u001b[0;34m,\u001b[0m \u001b[0mkwds\u001b[0m\u001b[0;34m)\u001b[0m\u001b[0;34m\u001b[0m\u001b[0m\n\u001b[0m\u001b[1;32m    656\u001b[0m \u001b[0;34m\u001b[0m\u001b[0m\n\u001b[1;32m    657\u001b[0m     \u001b[0mparser_f\u001b[0m\u001b[0;34m.\u001b[0m\u001b[0m__name__\u001b[0m \u001b[0;34m=\u001b[0m \u001b[0mname\u001b[0m\u001b[0;34m\u001b[0m\u001b[0m\n",
      "\u001b[0;32m~/anaconda3/lib/python3.6/site-packages/pandas/io/parsers.py\u001b[0m in \u001b[0;36m_read\u001b[0;34m(filepath_or_buffer, kwds)\u001b[0m\n\u001b[1;32m    403\u001b[0m \u001b[0;34m\u001b[0m\u001b[0m\n\u001b[1;32m    404\u001b[0m     \u001b[0;31m# Create the parser.\u001b[0m\u001b[0;34m\u001b[0m\u001b[0;34m\u001b[0m\u001b[0m\n\u001b[0;32m--> 405\u001b[0;31m     \u001b[0mparser\u001b[0m \u001b[0;34m=\u001b[0m \u001b[0mTextFileReader\u001b[0m\u001b[0;34m(\u001b[0m\u001b[0mfilepath_or_buffer\u001b[0m\u001b[0;34m,\u001b[0m \u001b[0;34m**\u001b[0m\u001b[0mkwds\u001b[0m\u001b[0;34m)\u001b[0m\u001b[0;34m\u001b[0m\u001b[0m\n\u001b[0m\u001b[1;32m    406\u001b[0m \u001b[0;34m\u001b[0m\u001b[0m\n\u001b[1;32m    407\u001b[0m     \u001b[0;32mif\u001b[0m \u001b[0mchunksize\u001b[0m \u001b[0;32mor\u001b[0m \u001b[0miterator\u001b[0m\u001b[0;34m:\u001b[0m\u001b[0;34m\u001b[0m\u001b[0m\n",
      "\u001b[0;32m~/anaconda3/lib/python3.6/site-packages/pandas/io/parsers.py\u001b[0m in \u001b[0;36m__init__\u001b[0;34m(self, f, engine, **kwds)\u001b[0m\n\u001b[1;32m    762\u001b[0m             \u001b[0mself\u001b[0m\u001b[0;34m.\u001b[0m\u001b[0moptions\u001b[0m\u001b[0;34m[\u001b[0m\u001b[0;34m'has_index_names'\u001b[0m\u001b[0;34m]\u001b[0m \u001b[0;34m=\u001b[0m \u001b[0mkwds\u001b[0m\u001b[0;34m[\u001b[0m\u001b[0;34m'has_index_names'\u001b[0m\u001b[0;34m]\u001b[0m\u001b[0;34m\u001b[0m\u001b[0m\n\u001b[1;32m    763\u001b[0m \u001b[0;34m\u001b[0m\u001b[0m\n\u001b[0;32m--> 764\u001b[0;31m         \u001b[0mself\u001b[0m\u001b[0;34m.\u001b[0m\u001b[0m_make_engine\u001b[0m\u001b[0;34m(\u001b[0m\u001b[0mself\u001b[0m\u001b[0;34m.\u001b[0m\u001b[0mengine\u001b[0m\u001b[0;34m)\u001b[0m\u001b[0;34m\u001b[0m\u001b[0m\n\u001b[0m\u001b[1;32m    765\u001b[0m \u001b[0;34m\u001b[0m\u001b[0m\n\u001b[1;32m    766\u001b[0m     \u001b[0;32mdef\u001b[0m \u001b[0mclose\u001b[0m\u001b[0;34m(\u001b[0m\u001b[0mself\u001b[0m\u001b[0;34m)\u001b[0m\u001b[0;34m:\u001b[0m\u001b[0;34m\u001b[0m\u001b[0m\n",
      "\u001b[0;32m~/anaconda3/lib/python3.6/site-packages/pandas/io/parsers.py\u001b[0m in \u001b[0;36m_make_engine\u001b[0;34m(self, engine)\u001b[0m\n\u001b[1;32m    983\u001b[0m     \u001b[0;32mdef\u001b[0m \u001b[0m_make_engine\u001b[0m\u001b[0;34m(\u001b[0m\u001b[0mself\u001b[0m\u001b[0;34m,\u001b[0m \u001b[0mengine\u001b[0m\u001b[0;34m=\u001b[0m\u001b[0;34m'c'\u001b[0m\u001b[0;34m)\u001b[0m\u001b[0;34m:\u001b[0m\u001b[0;34m\u001b[0m\u001b[0m\n\u001b[1;32m    984\u001b[0m         \u001b[0;32mif\u001b[0m \u001b[0mengine\u001b[0m \u001b[0;34m==\u001b[0m \u001b[0;34m'c'\u001b[0m\u001b[0;34m:\u001b[0m\u001b[0;34m\u001b[0m\u001b[0m\n\u001b[0;32m--> 985\u001b[0;31m             \u001b[0mself\u001b[0m\u001b[0;34m.\u001b[0m\u001b[0m_engine\u001b[0m \u001b[0;34m=\u001b[0m \u001b[0mCParserWrapper\u001b[0m\u001b[0;34m(\u001b[0m\u001b[0mself\u001b[0m\u001b[0;34m.\u001b[0m\u001b[0mf\u001b[0m\u001b[0;34m,\u001b[0m \u001b[0;34m**\u001b[0m\u001b[0mself\u001b[0m\u001b[0;34m.\u001b[0m\u001b[0moptions\u001b[0m\u001b[0;34m)\u001b[0m\u001b[0;34m\u001b[0m\u001b[0m\n\u001b[0m\u001b[1;32m    986\u001b[0m         \u001b[0;32melse\u001b[0m\u001b[0;34m:\u001b[0m\u001b[0;34m\u001b[0m\u001b[0m\n\u001b[1;32m    987\u001b[0m             \u001b[0;32mif\u001b[0m \u001b[0mengine\u001b[0m \u001b[0;34m==\u001b[0m \u001b[0;34m'python'\u001b[0m\u001b[0;34m:\u001b[0m\u001b[0;34m\u001b[0m\u001b[0m\n",
      "\u001b[0;32m~/anaconda3/lib/python3.6/site-packages/pandas/io/parsers.py\u001b[0m in \u001b[0;36m__init__\u001b[0;34m(self, src, **kwds)\u001b[0m\n\u001b[1;32m   1603\u001b[0m         \u001b[0mkwds\u001b[0m\u001b[0;34m[\u001b[0m\u001b[0;34m'allow_leading_cols'\u001b[0m\u001b[0;34m]\u001b[0m \u001b[0;34m=\u001b[0m \u001b[0mself\u001b[0m\u001b[0;34m.\u001b[0m\u001b[0mindex_col\u001b[0m \u001b[0;32mis\u001b[0m \u001b[0;32mnot\u001b[0m \u001b[0;32mFalse\u001b[0m\u001b[0;34m\u001b[0m\u001b[0m\n\u001b[1;32m   1604\u001b[0m \u001b[0;34m\u001b[0m\u001b[0m\n\u001b[0;32m-> 1605\u001b[0;31m         \u001b[0mself\u001b[0m\u001b[0;34m.\u001b[0m\u001b[0m_reader\u001b[0m \u001b[0;34m=\u001b[0m \u001b[0mparsers\u001b[0m\u001b[0;34m.\u001b[0m\u001b[0mTextReader\u001b[0m\u001b[0;34m(\u001b[0m\u001b[0msrc\u001b[0m\u001b[0;34m,\u001b[0m \u001b[0;34m**\u001b[0m\u001b[0mkwds\u001b[0m\u001b[0;34m)\u001b[0m\u001b[0;34m\u001b[0m\u001b[0m\n\u001b[0m\u001b[1;32m   1606\u001b[0m \u001b[0;34m\u001b[0m\u001b[0m\n\u001b[1;32m   1607\u001b[0m         \u001b[0;31m# XXX\u001b[0m\u001b[0;34m\u001b[0m\u001b[0;34m\u001b[0m\u001b[0m\n",
      "\u001b[0;32mpandas/_libs/parsers.pyx\u001b[0m in \u001b[0;36mpandas._libs.parsers.TextReader.__cinit__ (pandas/_libs/parsers.c:4209)\u001b[0;34m()\u001b[0m\n",
      "\u001b[0;32mpandas/_libs/parsers.pyx\u001b[0m in \u001b[0;36mpandas._libs.parsers.TextReader._setup_parser_source (pandas/_libs/parsers.c:8873)\u001b[0;34m()\u001b[0m\n",
      "\u001b[0;31mFileNotFoundError\u001b[0m: File b'../data/PUMA_CD.csv' does not exist"
     ]
    }
   ],
   "source": [
    "merging = [('BX01', 'BX02'), ('BX03', 'BX06'), ('MN01', 'MN02'), ('MN04', 'MN05')]\n",
    "subways = subways[['cd', '2016']]\n",
    "merged = []\n",
    "for i,(a,b) in enumerate(merging):\n",
    "    u = float(housing_units[housing_units['cd']==a]['Units'].values[0])\n",
    "    v = float(housing_units[housing_units['cd']==b]['Units'].values[0])\n",
    "    denom = u + v\n",
    "    newval = u *subways[subways['cd']==a]['2016'].values[0] + v * subways[subways['cd']==b]['2016'].values[0]\n",
    "    newval = newval / float(denom)\n",
    "    merged.append({\n",
    "        'cd': a + b, \n",
    "        '2016': newval})\n",
    "subways = subways.append(merged, ignore_index = True)"
   ]
  },
  {
   "cell_type": "code",
<<<<<<< HEAD
   "execution_count": 11,
=======
   "execution_count": 503,
>>>>>>> d9a3a53771ccffcf0182d26684633232636f6583
   "metadata": {},
   "outputs": [
    {
     "ename": "NameError",
     "evalue": "name 'puma_cd' is not defined",
     "output_type": "error",
     "traceback": [
      "\u001b[0;31m---------------------------------------------------------------------------\u001b[0m",
      "\u001b[0;31mNameError\u001b[0m                                 Traceback (most recent call last)",
      "\u001b[0;32m<ipython-input-11-442d575fb1a5>\u001b[0m in \u001b[0;36m<module>\u001b[0;34m()\u001b[0m\n\u001b[0;32m----> 1\u001b[0;31m \u001b[0mpuma_cd\u001b[0m\u001b[0;34m[\u001b[0m\u001b[0;34m'cd'\u001b[0m\u001b[0;34m]\u001b[0m \u001b[0;34m=\u001b[0m \u001b[0mpuma_cd\u001b[0m\u001b[0;34m[\u001b[0m\u001b[0;34m'cd'\u001b[0m\u001b[0;34m]\u001b[0m\u001b[0;34m.\u001b[0m\u001b[0mstr\u001b[0m\u001b[0;34m.\u001b[0m\u001b[0mreplace\u001b[0m\u001b[0;34m(\u001b[0m\u001b[0;34m\" \"\u001b[0m\u001b[0;34m,\u001b[0m \u001b[0;34m\"\"\u001b[0m\u001b[0;34m)\u001b[0m\u001b[0;34m\u001b[0m\u001b[0m\n\u001b[0m\u001b[1;32m      2\u001b[0m \u001b[0msbas\u001b[0m\u001b[0;34m[\u001b[0m\u001b[0;34m'cd'\u001b[0m\u001b[0;34m]\u001b[0m \u001b[0;34m=\u001b[0m \u001b[0msbas\u001b[0m\u001b[0;34m[\u001b[0m\u001b[0;34m'cd'\u001b[0m\u001b[0;34m]\u001b[0m\u001b[0;34m.\u001b[0m\u001b[0mstr\u001b[0m\u001b[0;34m.\u001b[0m\u001b[0mreplace\u001b[0m\u001b[0;34m(\u001b[0m\u001b[0;34m\" \"\u001b[0m\u001b[0;34m,\u001b[0m\u001b[0;34m\"\"\u001b[0m\u001b[0;34m)\u001b[0m\u001b[0;34m\u001b[0m\u001b[0m\n",
      "\u001b[0;31mNameError\u001b[0m: name 'puma_cd' is not defined"
     ]
    }
   ],
   "source": [
<<<<<<< HEAD
    "puma_cd['cd'] = puma_cd['cd'].str.replace(\" \", \"\")\n",
    "sbas['cd'] = sbas['cd'].str.replace(\" \",\"\")"
   ]
  },
  {
   "cell_type": "code",
   "execution_count": 12,
   "metadata": {},
   "outputs": [
    {
     "ename": "NameError",
     "evalue": "name 'nx' is not defined",
     "output_type": "error",
     "traceback": [
      "\u001b[0;31m---------------------------------------------------------------------------\u001b[0m",
      "\u001b[0;31mNameError\u001b[0m                                 Traceback (most recent call last)",
      "\u001b[0;32m<ipython-input-12-cc8427d7944c>\u001b[0m in \u001b[0;36m<module>\u001b[0;34m()\u001b[0m\n\u001b[0;32m----> 1\u001b[0;31m \u001b[0mG\u001b[0m \u001b[0;34m=\u001b[0m \u001b[0mnx\u001b[0m\u001b[0;34m.\u001b[0m\u001b[0mGraph\u001b[0m\u001b[0;34m(\u001b[0m\u001b[0;34m)\u001b[0m\u001b[0;34m\u001b[0m\u001b[0m\n\u001b[0m\u001b[1;32m      2\u001b[0m \u001b[0mG\u001b[0m\u001b[0;34m.\u001b[0m\u001b[0madd_nodes_from\u001b[0m\u001b[0;34m(\u001b[0m\u001b[0msbas\u001b[0m\u001b[0;34m.\u001b[0m\u001b[0mindex\u001b[0m\u001b[0;34m)\u001b[0m\u001b[0;34m\u001b[0m\u001b[0m\n\u001b[1;32m      3\u001b[0m \u001b[0mn\u001b[0m \u001b[0;34m=\u001b[0m \u001b[0mlen\u001b[0m\u001b[0;34m(\u001b[0m\u001b[0msbas\u001b[0m\u001b[0;34m.\u001b[0m\u001b[0mindex\u001b[0m\u001b[0;34m)\u001b[0m\u001b[0;34m\u001b[0m\u001b[0m\n\u001b[1;32m      4\u001b[0m \u001b[0;32mfor\u001b[0m \u001b[0mi\u001b[0m\u001b[0;34m,\u001b[0m\u001b[0mrow\u001b[0m \u001b[0;32min\u001b[0m \u001b[0msbas\u001b[0m\u001b[0;34m.\u001b[0m\u001b[0miterrows\u001b[0m\u001b[0;34m(\u001b[0m\u001b[0;34m)\u001b[0m\u001b[0;34m:\u001b[0m\u001b[0;34m\u001b[0m\u001b[0m\n\u001b[1;32m      5\u001b[0m     \u001b[0;32mfor\u001b[0m \u001b[0mj\u001b[0m \u001b[0;32min\u001b[0m \u001b[0mrange\u001b[0m\u001b[0;34m(\u001b[0m\u001b[0mi\u001b[0m\u001b[0;34m+\u001b[0m\u001b[0;36m1\u001b[0m\u001b[0;34m,\u001b[0m\u001b[0mn\u001b[0m\u001b[0;34m)\u001b[0m\u001b[0;34m:\u001b[0m\u001b[0;34m\u001b[0m\u001b[0m\n",
      "\u001b[0;31mNameError\u001b[0m: name 'nx' is not defined"
     ]
    }
   ],
   "source": [
    "G = nx.Graph()\n",
    "G.add_nodes_from(sbas.index)\n",
    "n = len(sbas.index)\n",
    "for i,row in sbas.iterrows():\n",
    "    for j in range(i+1,n):\n",
    "        if row['geometry'].touches(sbas.loc[j]['geometry']):\n",
    "            dist = row['geometry'].centroid.distance(sbas.loc[j]['geometry'].centroid) \n",
    "            G.add_edge(i,j, weight=dist)"
   ]
  },
  {
   "cell_type": "code",
   "execution_count": 13,
   "metadata": {},
   "outputs": [
    {
     "ename": "NameError",
     "evalue": "name 'nx' is not defined",
     "output_type": "error",
     "traceback": [
      "\u001b[0;31m---------------------------------------------------------------------------\u001b[0m",
      "\u001b[0;31mNameError\u001b[0m                                 Traceback (most recent call last)",
      "\u001b[0;32m<ipython-input-13-7cf5f423ffa8>\u001b[0m in \u001b[0;36m<module>\u001b[0;34m()\u001b[0m\n\u001b[0;32m----> 1\u001b[0;31m \u001b[0mnx\u001b[0m\u001b[0;34m.\u001b[0m\u001b[0mdraw\u001b[0m\u001b[0;34m(\u001b[0m\u001b[0mG\u001b[0m\u001b[0;34m,\u001b[0m \u001b[0mpos\u001b[0m \u001b[0;34m=\u001b[0m \u001b[0msbas\u001b[0m\u001b[0;34m[\u001b[0m\u001b[0;34m'geometry'\u001b[0m\u001b[0;34m]\u001b[0m\u001b[0;34m.\u001b[0m\u001b[0mcentroid\u001b[0m\u001b[0;34m.\u001b[0m\u001b[0mmap\u001b[0m\u001b[0;34m(\u001b[0m\u001b[0;32mlambda\u001b[0m \u001b[0mp\u001b[0m\u001b[0;34m:\u001b[0m \u001b[0;34m(\u001b[0m\u001b[0mp\u001b[0m\u001b[0;34m.\u001b[0m\u001b[0mx\u001b[0m\u001b[0;34m,\u001b[0m\u001b[0mp\u001b[0m\u001b[0;34m.\u001b[0m\u001b[0my\u001b[0m\u001b[0;34m)\u001b[0m\u001b[0;34m)\u001b[0m\u001b[0;34m.\u001b[0m\u001b[0mto_dict\u001b[0m\u001b[0;34m(\u001b[0m\u001b[0;34m)\u001b[0m\u001b[0;34m,\u001b[0m \u001b[0mnode_size\u001b[0m\u001b[0;34m=\u001b[0m\u001b[0;36m100\u001b[0m\u001b[0;34m,\u001b[0m \u001b[0mnode_color\u001b[0m\u001b[0;34m=\u001b[0m\u001b[0mrange\u001b[0m\u001b[0;34m(\u001b[0m\u001b[0mn\u001b[0m\u001b[0;34m)\u001b[0m\u001b[0;34m,\u001b[0m \u001b[0mcmap\u001b[0m\u001b[0;34m=\u001b[0m\u001b[0mplt\u001b[0m\u001b[0;34m.\u001b[0m\u001b[0mcm\u001b[0m\u001b[0;34m.\u001b[0m\u001b[0mgist_earth\u001b[0m\u001b[0;34m)\u001b[0m\u001b[0;34m\u001b[0m\u001b[0m\n\u001b[0m\u001b[1;32m      2\u001b[0m \u001b[0mplt\u001b[0m\u001b[0;34m.\u001b[0m\u001b[0mshow\u001b[0m\u001b[0;34m(\u001b[0m\u001b[0;34m)\u001b[0m\u001b[0;34m\u001b[0m\u001b[0m\n",
      "\u001b[0;31mNameError\u001b[0m: name 'nx' is not defined"
     ]
    }
   ],
   "source": [
    "nx.draw(G, pos = sbas['geometry'].centroid.map(lambda p: (p.x,p.y)).to_dict(), node_size=100, node_color=range(n), cmap=plt.cm.gist_earth)\n",
    "plt.show()"
=======
    "subways = subways.merge(puma_cd_name, on = 'cd', how = 'outer')"
>>>>>>> d9a3a53771ccffcf0182d26684633232636f6583
   ]
  },
  {
   "cell_type": "code",
<<<<<<< HEAD
   "execution_count": 14,
   "metadata": {},
   "outputs": [
    {
     "ename": "SyntaxError",
     "evalue": "Missing parentheses in call to 'print'. Did you mean print(int neighbor_cds)? (<ipython-input-14-14a56f5b079a>, line 8)",
     "output_type": "error",
     "traceback": [
      "\u001b[0;36m  File \u001b[0;32m\"<ipython-input-14-14a56f5b079a>\"\u001b[0;36m, line \u001b[0;32m8\u001b[0m\n\u001b[0;31m    print neighbor_cds\u001b[0m\n\u001b[0m                     ^\u001b[0m\n\u001b[0;31mSyntaxError\u001b[0m\u001b[0;31m:\u001b[0m Missing parentheses in call to 'print'. Did you mean print(int neighbor_cds)?\n"
     ]
    }
   ],
=======
   "execution_count": 510,
   "metadata": {},
   "outputs": [],
>>>>>>> d9a3a53771ccffcf0182d26684633232636f6583
   "source": [
    "subways = subways.dropna(how='any')"
   ]
  },
  {
   "cell_type": "code",
<<<<<<< HEAD
   "execution_count": 15,
   "metadata": {},
   "outputs": [
    {
     "ename": "NameError",
     "evalue": "name 'nx' is not defined",
     "output_type": "error",
     "traceback": [
      "\u001b[0;31m---------------------------------------------------------------------------\u001b[0m",
      "\u001b[0;31mNameError\u001b[0m                                 Traceback (most recent call last)",
      "\u001b[0;32m<ipython-input-15-7f26d7f0b07e>\u001b[0m in \u001b[0;36m<module>\u001b[0;34m()\u001b[0m\n\u001b[0;32m----> 1\u001b[0;31m \u001b[0mnx\u001b[0m\u001b[0;34m.\u001b[0m\u001b[0mto_numpy_matrix\u001b[0m\u001b[0;34m(\u001b[0m\u001b[0mG\u001b[0m\u001b[0;34m,\u001b[0m \u001b[0mweight\u001b[0m\u001b[0;34m=\u001b[0m\u001b[0;32mNone\u001b[0m\u001b[0;34m)\u001b[0m\u001b[0;34m\u001b[0m\u001b[0m\n\u001b[0m",
      "\u001b[0;31mNameError\u001b[0m: name 'nx' is not defined"
     ]
    }
   ],
=======
   "execution_count": 513,
   "metadata": {},
   "outputs": [],
>>>>>>> d9a3a53771ccffcf0182d26684633232636f6583
   "source": [
    "subways = subways.set_index('puma')"
   ]
  },
  {
   "cell_type": "code",
<<<<<<< HEAD
   "execution_count": 16,
=======
   "execution_count": 593,
>>>>>>> d9a3a53771ccffcf0182d26684633232636f6583
   "metadata": {},
   "outputs": [
    {
     "ename": "FileNotFoundError",
     "evalue": "File b'../data/communitydistrict-residentialunitswithin12mileofasubwaystation.csv' does not exist",
     "output_type": "error",
     "traceback": [
      "\u001b[0;31m---------------------------------------------------------------------------\u001b[0m",
      "\u001b[0;31mFileNotFoundError\u001b[0m                         Traceback (most recent call last)",
      "\u001b[0;32m<ipython-input-16-14a407d7e508>\u001b[0m in \u001b[0;36m<module>\u001b[0;34m()\u001b[0m\n\u001b[0;32m----> 1\u001b[0;31m \u001b[0msubways\u001b[0m \u001b[0;34m=\u001b[0m \u001b[0mpd\u001b[0m\u001b[0;34m.\u001b[0m\u001b[0mread_csv\u001b[0m\u001b[0;34m(\u001b[0m\u001b[0;34m'../data/communitydistrict-residentialunitswithin12mileofasubwaystation.csv'\u001b[0m\u001b[0;34m)\u001b[0m\u001b[0;34m\u001b[0m\u001b[0m\n\u001b[0m",
      "\u001b[0;32m~/anaconda3/lib/python3.6/site-packages/pandas/io/parsers.py\u001b[0m in \u001b[0;36mparser_f\u001b[0;34m(filepath_or_buffer, sep, delimiter, header, names, index_col, usecols, squeeze, prefix, mangle_dupe_cols, dtype, engine, converters, true_values, false_values, skipinitialspace, skiprows, nrows, na_values, keep_default_na, na_filter, verbose, skip_blank_lines, parse_dates, infer_datetime_format, keep_date_col, date_parser, dayfirst, iterator, chunksize, compression, thousands, decimal, lineterminator, quotechar, quoting, escapechar, comment, encoding, dialect, tupleize_cols, error_bad_lines, warn_bad_lines, skipfooter, skip_footer, doublequote, delim_whitespace, as_recarray, compact_ints, use_unsigned, low_memory, buffer_lines, memory_map, float_precision)\u001b[0m\n\u001b[1;32m    653\u001b[0m                     skip_blank_lines=skip_blank_lines)\n\u001b[1;32m    654\u001b[0m \u001b[0;34m\u001b[0m\u001b[0m\n\u001b[0;32m--> 655\u001b[0;31m         \u001b[0;32mreturn\u001b[0m \u001b[0m_read\u001b[0m\u001b[0;34m(\u001b[0m\u001b[0mfilepath_or_buffer\u001b[0m\u001b[0;34m,\u001b[0m \u001b[0mkwds\u001b[0m\u001b[0;34m)\u001b[0m\u001b[0;34m\u001b[0m\u001b[0m\n\u001b[0m\u001b[1;32m    656\u001b[0m \u001b[0;34m\u001b[0m\u001b[0m\n\u001b[1;32m    657\u001b[0m     \u001b[0mparser_f\u001b[0m\u001b[0;34m.\u001b[0m\u001b[0m__name__\u001b[0m \u001b[0;34m=\u001b[0m \u001b[0mname\u001b[0m\u001b[0;34m\u001b[0m\u001b[0m\n",
      "\u001b[0;32m~/anaconda3/lib/python3.6/site-packages/pandas/io/parsers.py\u001b[0m in \u001b[0;36m_read\u001b[0;34m(filepath_or_buffer, kwds)\u001b[0m\n\u001b[1;32m    403\u001b[0m \u001b[0;34m\u001b[0m\u001b[0m\n\u001b[1;32m    404\u001b[0m     \u001b[0;31m# Create the parser.\u001b[0m\u001b[0;34m\u001b[0m\u001b[0;34m\u001b[0m\u001b[0m\n\u001b[0;32m--> 405\u001b[0;31m     \u001b[0mparser\u001b[0m \u001b[0;34m=\u001b[0m \u001b[0mTextFileReader\u001b[0m\u001b[0;34m(\u001b[0m\u001b[0mfilepath_or_buffer\u001b[0m\u001b[0;34m,\u001b[0m \u001b[0;34m**\u001b[0m\u001b[0mkwds\u001b[0m\u001b[0;34m)\u001b[0m\u001b[0;34m\u001b[0m\u001b[0m\n\u001b[0m\u001b[1;32m    406\u001b[0m \u001b[0;34m\u001b[0m\u001b[0m\n\u001b[1;32m    407\u001b[0m     \u001b[0;32mif\u001b[0m \u001b[0mchunksize\u001b[0m \u001b[0;32mor\u001b[0m \u001b[0miterator\u001b[0m\u001b[0;34m:\u001b[0m\u001b[0;34m\u001b[0m\u001b[0m\n",
      "\u001b[0;32m~/anaconda3/lib/python3.6/site-packages/pandas/io/parsers.py\u001b[0m in \u001b[0;36m__init__\u001b[0;34m(self, f, engine, **kwds)\u001b[0m\n\u001b[1;32m    762\u001b[0m             \u001b[0mself\u001b[0m\u001b[0;34m.\u001b[0m\u001b[0moptions\u001b[0m\u001b[0;34m[\u001b[0m\u001b[0;34m'has_index_names'\u001b[0m\u001b[0;34m]\u001b[0m \u001b[0;34m=\u001b[0m \u001b[0mkwds\u001b[0m\u001b[0;34m[\u001b[0m\u001b[0;34m'has_index_names'\u001b[0m\u001b[0;34m]\u001b[0m\u001b[0;34m\u001b[0m\u001b[0m\n\u001b[1;32m    763\u001b[0m \u001b[0;34m\u001b[0m\u001b[0m\n\u001b[0;32m--> 764\u001b[0;31m         \u001b[0mself\u001b[0m\u001b[0;34m.\u001b[0m\u001b[0m_make_engine\u001b[0m\u001b[0;34m(\u001b[0m\u001b[0mself\u001b[0m\u001b[0;34m.\u001b[0m\u001b[0mengine\u001b[0m\u001b[0;34m)\u001b[0m\u001b[0;34m\u001b[0m\u001b[0m\n\u001b[0m\u001b[1;32m    765\u001b[0m \u001b[0;34m\u001b[0m\u001b[0m\n\u001b[1;32m    766\u001b[0m     \u001b[0;32mdef\u001b[0m \u001b[0mclose\u001b[0m\u001b[0;34m(\u001b[0m\u001b[0mself\u001b[0m\u001b[0;34m)\u001b[0m\u001b[0;34m:\u001b[0m\u001b[0;34m\u001b[0m\u001b[0m\n",
      "\u001b[0;32m~/anaconda3/lib/python3.6/site-packages/pandas/io/parsers.py\u001b[0m in \u001b[0;36m_make_engine\u001b[0;34m(self, engine)\u001b[0m\n\u001b[1;32m    983\u001b[0m     \u001b[0;32mdef\u001b[0m \u001b[0m_make_engine\u001b[0m\u001b[0;34m(\u001b[0m\u001b[0mself\u001b[0m\u001b[0;34m,\u001b[0m \u001b[0mengine\u001b[0m\u001b[0;34m=\u001b[0m\u001b[0;34m'c'\u001b[0m\u001b[0;34m)\u001b[0m\u001b[0;34m:\u001b[0m\u001b[0;34m\u001b[0m\u001b[0m\n\u001b[1;32m    984\u001b[0m         \u001b[0;32mif\u001b[0m \u001b[0mengine\u001b[0m \u001b[0;34m==\u001b[0m \u001b[0;34m'c'\u001b[0m\u001b[0;34m:\u001b[0m\u001b[0;34m\u001b[0m\u001b[0m\n\u001b[0;32m--> 985\u001b[0;31m             \u001b[0mself\u001b[0m\u001b[0;34m.\u001b[0m\u001b[0m_engine\u001b[0m \u001b[0;34m=\u001b[0m \u001b[0mCParserWrapper\u001b[0m\u001b[0;34m(\u001b[0m\u001b[0mself\u001b[0m\u001b[0;34m.\u001b[0m\u001b[0mf\u001b[0m\u001b[0;34m,\u001b[0m \u001b[0;34m**\u001b[0m\u001b[0mself\u001b[0m\u001b[0;34m.\u001b[0m\u001b[0moptions\u001b[0m\u001b[0;34m)\u001b[0m\u001b[0;34m\u001b[0m\u001b[0m\n\u001b[0m\u001b[1;32m    986\u001b[0m         \u001b[0;32melse\u001b[0m\u001b[0;34m:\u001b[0m\u001b[0;34m\u001b[0m\u001b[0m\n\u001b[1;32m    987\u001b[0m             \u001b[0;32mif\u001b[0m \u001b[0mengine\u001b[0m \u001b[0;34m==\u001b[0m \u001b[0;34m'python'\u001b[0m\u001b[0;34m:\u001b[0m\u001b[0;34m\u001b[0m\u001b[0m\n",
      "\u001b[0;32m~/anaconda3/lib/python3.6/site-packages/pandas/io/parsers.py\u001b[0m in \u001b[0;36m__init__\u001b[0;34m(self, src, **kwds)\u001b[0m\n\u001b[1;32m   1603\u001b[0m         \u001b[0mkwds\u001b[0m\u001b[0;34m[\u001b[0m\u001b[0;34m'allow_leading_cols'\u001b[0m\u001b[0;34m]\u001b[0m \u001b[0;34m=\u001b[0m \u001b[0mself\u001b[0m\u001b[0;34m.\u001b[0m\u001b[0mindex_col\u001b[0m \u001b[0;32mis\u001b[0m \u001b[0;32mnot\u001b[0m \u001b[0;32mFalse\u001b[0m\u001b[0;34m\u001b[0m\u001b[0m\n\u001b[1;32m   1604\u001b[0m \u001b[0;34m\u001b[0m\u001b[0m\n\u001b[0;32m-> 1605\u001b[0;31m         \u001b[0mself\u001b[0m\u001b[0;34m.\u001b[0m\u001b[0m_reader\u001b[0m \u001b[0;34m=\u001b[0m \u001b[0mparsers\u001b[0m\u001b[0;34m.\u001b[0m\u001b[0mTextReader\u001b[0m\u001b[0;34m(\u001b[0m\u001b[0msrc\u001b[0m\u001b[0;34m,\u001b[0m \u001b[0;34m**\u001b[0m\u001b[0mkwds\u001b[0m\u001b[0;34m)\u001b[0m\u001b[0;34m\u001b[0m\u001b[0m\n\u001b[0m\u001b[1;32m   1606\u001b[0m \u001b[0;34m\u001b[0m\u001b[0m\n\u001b[1;32m   1607\u001b[0m         \u001b[0;31m# XXX\u001b[0m\u001b[0;34m\u001b[0m\u001b[0;34m\u001b[0m\u001b[0m\n",
      "\u001b[0;32mpandas/_libs/parsers.pyx\u001b[0m in \u001b[0;36mpandas._libs.parsers.TextReader.__cinit__ (pandas/_libs/parsers.c:4209)\u001b[0;34m()\u001b[0m\n",
      "\u001b[0;32mpandas/_libs/parsers.pyx\u001b[0m in \u001b[0;36mpandas._libs.parsers.TextReader._setup_parser_source (pandas/_libs/parsers.c:8873)\u001b[0;34m()\u001b[0m\n",
      "\u001b[0;31mFileNotFoundError\u001b[0m: File b'../data/communitydistrict-residentialunitswithin12mileofasubwaystation.csv' does not exist"
     ]
    }
   ],
   "source": [
    "new_units = pd.read_csv('../data/communitydistrict-unitsauthorizedbynewresidentialbuildingpermits.csv')\n",
    "new_units['cd'], new_units['Name'] = new_units['Community District'].str.split(\" - \",1).str\n",
    "new_units['cd'] = new_units['cd'].str.replace(' ','')\n",
    "years = [str(n) for n in range(2000,2017)]\n",
    "indices = ['cd', 'Name'] + years\n",
    "new_units = new_units[indices]\n",
    "for i,(a,b) in enumerate(merging):\n",
    "    u = float(housing_units[housing_units['cd']==a]['Units'].values[0])\n",
    "    v = float(housing_units[housing_units['cd']==b]['Units'].values[0])\n",
    "    denom = u + v\n",
    "    row1 = new_units[new_units['cd']==a][years].values\n",
    "    row2 = new_units[new_units['cd']==b][years].values\n",
    "    newvals = (u * row1 + v * row2) / denom\n",
    "    newrow = new_units[new_units['cd']==a].copy()\n",
    "    newrow = pd.DataFrame(newvals, columns=years) \n",
    "    newrow['cd'] = a + b\n",
    "    newrow['Name'] = merged_name[i]\n",
    "    new_units = new_units.append(newrow, ignore_index = True)"
   ]
  },
  {
   "cell_type": "code",
<<<<<<< HEAD
   "execution_count": 17,
=======
   "execution_count": 594,
>>>>>>> d9a3a53771ccffcf0182d26684633232636f6583
   "metadata": {},
   "outputs": [
    {
     "ename": "NameError",
     "evalue": "name 'subways' is not defined",
     "output_type": "error",
     "traceback": [
      "\u001b[0;31m---------------------------------------------------------------------------\u001b[0m",
      "\u001b[0;31mNameError\u001b[0m                                 Traceback (most recent call last)",
      "\u001b[0;32m<ipython-input-17-51c5edbe9796>\u001b[0m in \u001b[0;36m<module>\u001b[0;34m()\u001b[0m\n\u001b[0;32m----> 1\u001b[0;31m \u001b[0msubways\u001b[0m\u001b[0;34m[\u001b[0m\u001b[0;34m'cd'\u001b[0m\u001b[0;34m]\u001b[0m\u001b[0;34m,\u001b[0m \u001b[0msubways\u001b[0m\u001b[0;34m[\u001b[0m\u001b[0;34m'CD_Name'\u001b[0m\u001b[0;34m]\u001b[0m \u001b[0;34m=\u001b[0m \u001b[0msubways\u001b[0m\u001b[0;34m[\u001b[0m\u001b[0;34m'Community District'\u001b[0m\u001b[0;34m]\u001b[0m\u001b[0;34m.\u001b[0m\u001b[0mstr\u001b[0m\u001b[0;34m.\u001b[0m\u001b[0msplit\u001b[0m\u001b[0;34m(\u001b[0m\u001b[0;34m\" - \"\u001b[0m\u001b[0;34m,\u001b[0m\u001b[0;36m1\u001b[0m\u001b[0;34m)\u001b[0m\u001b[0;34m.\u001b[0m\u001b[0mstr\u001b[0m\u001b[0;34m\u001b[0m\u001b[0m\n\u001b[0m\u001b[1;32m      2\u001b[0m \u001b[0msubways\u001b[0m\u001b[0;34m[\u001b[0m\u001b[0;34m'cd'\u001b[0m\u001b[0;34m]\u001b[0m \u001b[0;34m=\u001b[0m \u001b[0msubways\u001b[0m\u001b[0;34m[\u001b[0m\u001b[0;34m'cd'\u001b[0m\u001b[0;34m]\u001b[0m\u001b[0;34m.\u001b[0m\u001b[0mstr\u001b[0m\u001b[0;34m.\u001b[0m\u001b[0mreplace\u001b[0m\u001b[0;34m(\u001b[0m\u001b[0;34m\" \"\u001b[0m\u001b[0;34m,\u001b[0m \u001b[0;34m\"\"\u001b[0m\u001b[0;34m)\u001b[0m\u001b[0;34m\u001b[0m\u001b[0m\n",
      "\u001b[0;31mNameError\u001b[0m: name 'subways' is not defined"
     ]
    }
   ],
   "source": [
    "new_units = new_units.merge(puma_cd_name, on='cd', how='outer')\n",
    "new_units = new_units[pd.notnull(new_units['CD_Name'])]\n",
    "new_units['puma'] = new_units['puma'].astype('int64')\n",
    "new_units = new_units.set_index('puma')"
   ]
  },
  {
   "cell_type": "code",
<<<<<<< HEAD
   "execution_count": 18,
   "metadata": {},
   "outputs": [
    {
     "ename": "NameError",
     "evalue": "name 'sbas' is not defined",
     "output_type": "error",
     "traceback": [
      "\u001b[0;31m---------------------------------------------------------------------------\u001b[0m",
      "\u001b[0;31mNameError\u001b[0m                                 Traceback (most recent call last)",
      "\u001b[0;32m<ipython-input-18-4086b8b43720>\u001b[0m in \u001b[0;36m<module>\u001b[0;34m()\u001b[0m\n\u001b[0;32m----> 1\u001b[0;31m \u001b[0msbas\u001b[0m \u001b[0;34m=\u001b[0m \u001b[0msbas\u001b[0m\u001b[0;34m.\u001b[0m\u001b[0mmerge\u001b[0m\u001b[0;34m(\u001b[0m\u001b[0msubways\u001b[0m\u001b[0;34m[\u001b[0m\u001b[0msubways\u001b[0m\u001b[0;34m[\u001b[0m\u001b[0;34m'cd'\u001b[0m\u001b[0;34m]\u001b[0m\u001b[0;34m.\u001b[0m\u001b[0misin\u001b[0m\u001b[0;34m(\u001b[0m\u001b[0msbas\u001b[0m\u001b[0;34m[\u001b[0m\u001b[0;34m'cd'\u001b[0m\u001b[0;34m]\u001b[0m\u001b[0;34m)\u001b[0m\u001b[0;34m]\u001b[0m\u001b[0;34m[\u001b[0m\u001b[0;34m[\u001b[0m\u001b[0;34m'cd'\u001b[0m\u001b[0;34m,\u001b[0m \u001b[0;34m'CD_Name'\u001b[0m\u001b[0;34m]\u001b[0m\u001b[0;34m]\u001b[0m\u001b[0;34m,\u001b[0m \u001b[0mon\u001b[0m\u001b[0;34m=\u001b[0m\u001b[0;34m[\u001b[0m\u001b[0;34m'cd'\u001b[0m\u001b[0;34m]\u001b[0m\u001b[0;34m,\u001b[0m \u001b[0mhow\u001b[0m\u001b[0;34m=\u001b[0m\u001b[0;34m'outer'\u001b[0m\u001b[0;34m)\u001b[0m\u001b[0;34m\u001b[0m\u001b[0m\n\u001b[0m",
      "\u001b[0;31mNameError\u001b[0m: name 'sbas' is not defined"
     ]
    }
   ],
=======
   "execution_count": 800,
   "metadata": {},
   "outputs": [],
>>>>>>> d9a3a53771ccffcf0182d26684633232636f6583
   "source": [
    "crime = pd.read_csv('../data/communitydistrict-seriouscrimerateper1000residents.csv')\n",
    "crime['cd'], crime['CD_Name'] = crime['Community District'].str.split(\" - \",1).str\n",
    "crime['cd'] = crime['cd'].str.replace(' ','')\n",
    "years = [str(n) for n in range(2006,2017)]\n",
    "indices = ['cd'] + years\n",
    "crime = crime[indices]\n",
    "for i,(a,b) in enumerate(merging):\n",
    "    u = float(population[population['cd']==a]['Population'].values[0])\n",
    "    v = float(population[population['cd']==b]['Population'].values[0])\n",
    "    denom = u + v\n",
    "    row1 = crime[crime['cd']==a][years].values\n",
    "    row2 = crime[crime['cd']==b][years].values\n",
    "    newvals = (u * row1 + v * row2) / denom\n",
    "    newrow = new_units[new_units['cd']==a].copy()\n",
    "    newrow = pd.DataFrame(newvals, columns=years) \n",
    "    newrow['cd'] = a + b\n",
    "    crime = crime.append(newrow, ignore_index = True)"
   ]
  },
  {
   "cell_type": "code",
<<<<<<< HEAD
   "execution_count": 19,
   "metadata": {},
   "outputs": [
    {
     "ename": "NameError",
     "evalue": "name 'puma_cd_name' is not defined",
     "output_type": "error",
     "traceback": [
      "\u001b[0;31m---------------------------------------------------------------------------\u001b[0m",
      "\u001b[0;31mNameError\u001b[0m                                 Traceback (most recent call last)",
      "\u001b[0;32m<ipython-input-19-3218ee443e98>\u001b[0m in \u001b[0;36m<module>\u001b[0;34m()\u001b[0m\n\u001b[0;32m----> 1\u001b[0;31m \u001b[0mpuma_cd_name\u001b[0m\u001b[0;34m[\u001b[0m\u001b[0;34m'CD_Name'\u001b[0m\u001b[0;34m]\u001b[0m\u001b[0;34m\u001b[0m\u001b[0m\n\u001b[0m",
      "\u001b[0;31mNameError\u001b[0m: name 'puma_cd_name' is not defined"
     ]
    }
   ],
   "source": [
    "puma_cd_name['CD_Name']"
   ]
  },
  {
   "cell_type": "code",
   "execution_count": null,
   "metadata": {
    "collapsed": true
   },
   "outputs": [],
   "source": []
  },
  {
   "cell_type": "code",
   "execution_count": 20,
   "metadata": {},
   "outputs": [
    {
     "ename": "FileNotFoundError",
     "evalue": "File b'../data/community_district_housing_units2010.csv' does not exist",
     "output_type": "error",
     "traceback": [
      "\u001b[0;31m---------------------------------------------------------------------------\u001b[0m",
      "\u001b[0;31mFileNotFoundError\u001b[0m                         Traceback (most recent call last)",
      "\u001b[0;32m<ipython-input-20-d82396d4f725>\u001b[0m in \u001b[0;36m<module>\u001b[0;34m()\u001b[0m\n\u001b[1;32m      1\u001b[0m \u001b[0;31m# # Merge community district data into PUMAs based on 2010 census\u001b[0m\u001b[0;34m\u001b[0m\u001b[0;34m\u001b[0m\u001b[0m\n\u001b[0;32m----> 2\u001b[0;31m \u001b[0mhousing_units\u001b[0m \u001b[0;34m=\u001b[0m \u001b[0mpd\u001b[0m\u001b[0;34m.\u001b[0m\u001b[0mread_csv\u001b[0m\u001b[0;34m(\u001b[0m\u001b[0;34m'../data/community_district_housing_units2010.csv'\u001b[0m\u001b[0;34m)\u001b[0m\u001b[0;34m\u001b[0m\u001b[0m\n\u001b[0m\u001b[1;32m      3\u001b[0m \u001b[0mhousing_units\u001b[0m\u001b[0;34m[\u001b[0m\u001b[0;34m'Community_District'\u001b[0m\u001b[0;34m]\u001b[0m \u001b[0;34m=\u001b[0m \u001b[0mhousing_units\u001b[0m\u001b[0;34m[\u001b[0m\u001b[0;34m'Community_District'\u001b[0m\u001b[0;34m]\u001b[0m\u001b[0;34m.\u001b[0m\u001b[0mstr\u001b[0m\u001b[0;34m.\u001b[0m\u001b[0mlstrip\u001b[0m\u001b[0;34m(\u001b[0m\u001b[0;34m)\u001b[0m\u001b[0;34m\u001b[0m\u001b[0m\n\u001b[1;32m      4\u001b[0m \u001b[0mhousing_units\u001b[0m\u001b[0;34m[\u001b[0m\u001b[0;34m'Community_District'\u001b[0m\u001b[0;34m]\u001b[0m \u001b[0;34m=\u001b[0m \u001b[0mhousing_units\u001b[0m\u001b[0;34m[\u001b[0m\u001b[0;34m'Community_District'\u001b[0m\u001b[0;34m]\u001b[0m\u001b[0;34m.\u001b[0m\u001b[0mstr\u001b[0m\u001b[0;34m.\u001b[0m\u001b[0mrstrip\u001b[0m\u001b[0;34m(\u001b[0m\u001b[0;34m)\u001b[0m\u001b[0;34m\u001b[0m\u001b[0m\n\u001b[1;32m      5\u001b[0m \u001b[0mhousing_units\u001b[0m\u001b[0;34m[\u001b[0m\u001b[0;34m'Borough'\u001b[0m\u001b[0;34m]\u001b[0m\u001b[0;34m,\u001b[0m \u001b[0mhousing_units\u001b[0m\u001b[0;34m[\u001b[0m\u001b[0;34m'CD_Number'\u001b[0m\u001b[0;34m]\u001b[0m \u001b[0;34m=\u001b[0m \u001b[0mhousing_units\u001b[0m\u001b[0;34m[\u001b[0m\u001b[0;34m'Community_District'\u001b[0m\u001b[0;34m]\u001b[0m\u001b[0;34m.\u001b[0m\u001b[0mstr\u001b[0m\u001b[0;34m.\u001b[0m\u001b[0msplit\u001b[0m\u001b[0;34m(\u001b[0m\u001b[0;34m\" \"\u001b[0m\u001b[0;34m,\u001b[0m\u001b[0;36m1\u001b[0m\u001b[0;34m)\u001b[0m\u001b[0;34m.\u001b[0m\u001b[0mstr\u001b[0m\u001b[0;34m\u001b[0m\u001b[0m\n",
      "\u001b[0;32m~/anaconda3/lib/python3.6/site-packages/pandas/io/parsers.py\u001b[0m in \u001b[0;36mparser_f\u001b[0;34m(filepath_or_buffer, sep, delimiter, header, names, index_col, usecols, squeeze, prefix, mangle_dupe_cols, dtype, engine, converters, true_values, false_values, skipinitialspace, skiprows, nrows, na_values, keep_default_na, na_filter, verbose, skip_blank_lines, parse_dates, infer_datetime_format, keep_date_col, date_parser, dayfirst, iterator, chunksize, compression, thousands, decimal, lineterminator, quotechar, quoting, escapechar, comment, encoding, dialect, tupleize_cols, error_bad_lines, warn_bad_lines, skipfooter, skip_footer, doublequote, delim_whitespace, as_recarray, compact_ints, use_unsigned, low_memory, buffer_lines, memory_map, float_precision)\u001b[0m\n\u001b[1;32m    653\u001b[0m                     skip_blank_lines=skip_blank_lines)\n\u001b[1;32m    654\u001b[0m \u001b[0;34m\u001b[0m\u001b[0m\n\u001b[0;32m--> 655\u001b[0;31m         \u001b[0;32mreturn\u001b[0m \u001b[0m_read\u001b[0m\u001b[0;34m(\u001b[0m\u001b[0mfilepath_or_buffer\u001b[0m\u001b[0;34m,\u001b[0m \u001b[0mkwds\u001b[0m\u001b[0;34m)\u001b[0m\u001b[0;34m\u001b[0m\u001b[0m\n\u001b[0m\u001b[1;32m    656\u001b[0m \u001b[0;34m\u001b[0m\u001b[0m\n\u001b[1;32m    657\u001b[0m     \u001b[0mparser_f\u001b[0m\u001b[0;34m.\u001b[0m\u001b[0m__name__\u001b[0m \u001b[0;34m=\u001b[0m \u001b[0mname\u001b[0m\u001b[0;34m\u001b[0m\u001b[0m\n",
      "\u001b[0;32m~/anaconda3/lib/python3.6/site-packages/pandas/io/parsers.py\u001b[0m in \u001b[0;36m_read\u001b[0;34m(filepath_or_buffer, kwds)\u001b[0m\n\u001b[1;32m    403\u001b[0m \u001b[0;34m\u001b[0m\u001b[0m\n\u001b[1;32m    404\u001b[0m     \u001b[0;31m# Create the parser.\u001b[0m\u001b[0;34m\u001b[0m\u001b[0;34m\u001b[0m\u001b[0m\n\u001b[0;32m--> 405\u001b[0;31m     \u001b[0mparser\u001b[0m \u001b[0;34m=\u001b[0m \u001b[0mTextFileReader\u001b[0m\u001b[0;34m(\u001b[0m\u001b[0mfilepath_or_buffer\u001b[0m\u001b[0;34m,\u001b[0m \u001b[0;34m**\u001b[0m\u001b[0mkwds\u001b[0m\u001b[0;34m)\u001b[0m\u001b[0;34m\u001b[0m\u001b[0m\n\u001b[0m\u001b[1;32m    406\u001b[0m \u001b[0;34m\u001b[0m\u001b[0m\n\u001b[1;32m    407\u001b[0m     \u001b[0;32mif\u001b[0m \u001b[0mchunksize\u001b[0m \u001b[0;32mor\u001b[0m \u001b[0miterator\u001b[0m\u001b[0;34m:\u001b[0m\u001b[0;34m\u001b[0m\u001b[0m\n",
      "\u001b[0;32m~/anaconda3/lib/python3.6/site-packages/pandas/io/parsers.py\u001b[0m in \u001b[0;36m__init__\u001b[0;34m(self, f, engine, **kwds)\u001b[0m\n\u001b[1;32m    762\u001b[0m             \u001b[0mself\u001b[0m\u001b[0;34m.\u001b[0m\u001b[0moptions\u001b[0m\u001b[0;34m[\u001b[0m\u001b[0;34m'has_index_names'\u001b[0m\u001b[0;34m]\u001b[0m \u001b[0;34m=\u001b[0m \u001b[0mkwds\u001b[0m\u001b[0;34m[\u001b[0m\u001b[0;34m'has_index_names'\u001b[0m\u001b[0;34m]\u001b[0m\u001b[0;34m\u001b[0m\u001b[0m\n\u001b[1;32m    763\u001b[0m \u001b[0;34m\u001b[0m\u001b[0m\n\u001b[0;32m--> 764\u001b[0;31m         \u001b[0mself\u001b[0m\u001b[0;34m.\u001b[0m\u001b[0m_make_engine\u001b[0m\u001b[0;34m(\u001b[0m\u001b[0mself\u001b[0m\u001b[0;34m.\u001b[0m\u001b[0mengine\u001b[0m\u001b[0;34m)\u001b[0m\u001b[0;34m\u001b[0m\u001b[0m\n\u001b[0m\u001b[1;32m    765\u001b[0m \u001b[0;34m\u001b[0m\u001b[0m\n\u001b[1;32m    766\u001b[0m     \u001b[0;32mdef\u001b[0m \u001b[0mclose\u001b[0m\u001b[0;34m(\u001b[0m\u001b[0mself\u001b[0m\u001b[0;34m)\u001b[0m\u001b[0;34m:\u001b[0m\u001b[0;34m\u001b[0m\u001b[0m\n",
      "\u001b[0;32m~/anaconda3/lib/python3.6/site-packages/pandas/io/parsers.py\u001b[0m in \u001b[0;36m_make_engine\u001b[0;34m(self, engine)\u001b[0m\n\u001b[1;32m    983\u001b[0m     \u001b[0;32mdef\u001b[0m \u001b[0m_make_engine\u001b[0m\u001b[0;34m(\u001b[0m\u001b[0mself\u001b[0m\u001b[0;34m,\u001b[0m \u001b[0mengine\u001b[0m\u001b[0;34m=\u001b[0m\u001b[0;34m'c'\u001b[0m\u001b[0;34m)\u001b[0m\u001b[0;34m:\u001b[0m\u001b[0;34m\u001b[0m\u001b[0m\n\u001b[1;32m    984\u001b[0m         \u001b[0;32mif\u001b[0m \u001b[0mengine\u001b[0m \u001b[0;34m==\u001b[0m \u001b[0;34m'c'\u001b[0m\u001b[0;34m:\u001b[0m\u001b[0;34m\u001b[0m\u001b[0m\n\u001b[0;32m--> 985\u001b[0;31m             \u001b[0mself\u001b[0m\u001b[0;34m.\u001b[0m\u001b[0m_engine\u001b[0m \u001b[0;34m=\u001b[0m \u001b[0mCParserWrapper\u001b[0m\u001b[0;34m(\u001b[0m\u001b[0mself\u001b[0m\u001b[0;34m.\u001b[0m\u001b[0mf\u001b[0m\u001b[0;34m,\u001b[0m \u001b[0;34m**\u001b[0m\u001b[0mself\u001b[0m\u001b[0;34m.\u001b[0m\u001b[0moptions\u001b[0m\u001b[0;34m)\u001b[0m\u001b[0;34m\u001b[0m\u001b[0m\n\u001b[0m\u001b[1;32m    986\u001b[0m         \u001b[0;32melse\u001b[0m\u001b[0;34m:\u001b[0m\u001b[0;34m\u001b[0m\u001b[0m\n\u001b[1;32m    987\u001b[0m             \u001b[0;32mif\u001b[0m \u001b[0mengine\u001b[0m \u001b[0;34m==\u001b[0m \u001b[0;34m'python'\u001b[0m\u001b[0;34m:\u001b[0m\u001b[0;34m\u001b[0m\u001b[0m\n",
      "\u001b[0;32m~/anaconda3/lib/python3.6/site-packages/pandas/io/parsers.py\u001b[0m in \u001b[0;36m__init__\u001b[0;34m(self, src, **kwds)\u001b[0m\n\u001b[1;32m   1603\u001b[0m         \u001b[0mkwds\u001b[0m\u001b[0;34m[\u001b[0m\u001b[0;34m'allow_leading_cols'\u001b[0m\u001b[0;34m]\u001b[0m \u001b[0;34m=\u001b[0m \u001b[0mself\u001b[0m\u001b[0;34m.\u001b[0m\u001b[0mindex_col\u001b[0m \u001b[0;32mis\u001b[0m \u001b[0;32mnot\u001b[0m \u001b[0;32mFalse\u001b[0m\u001b[0;34m\u001b[0m\u001b[0m\n\u001b[1;32m   1604\u001b[0m \u001b[0;34m\u001b[0m\u001b[0m\n\u001b[0;32m-> 1605\u001b[0;31m         \u001b[0mself\u001b[0m\u001b[0;34m.\u001b[0m\u001b[0m_reader\u001b[0m \u001b[0;34m=\u001b[0m \u001b[0mparsers\u001b[0m\u001b[0;34m.\u001b[0m\u001b[0mTextReader\u001b[0m\u001b[0;34m(\u001b[0m\u001b[0msrc\u001b[0m\u001b[0;34m,\u001b[0m \u001b[0;34m**\u001b[0m\u001b[0mkwds\u001b[0m\u001b[0;34m)\u001b[0m\u001b[0;34m\u001b[0m\u001b[0m\n\u001b[0m\u001b[1;32m   1606\u001b[0m \u001b[0;34m\u001b[0m\u001b[0m\n\u001b[1;32m   1607\u001b[0m         \u001b[0;31m# XXX\u001b[0m\u001b[0;34m\u001b[0m\u001b[0;34m\u001b[0m\u001b[0m\n",
      "\u001b[0;32mpandas/_libs/parsers.pyx\u001b[0m in \u001b[0;36mpandas._libs.parsers.TextReader.__cinit__ (pandas/_libs/parsers.c:4209)\u001b[0;34m()\u001b[0m\n",
      "\u001b[0;32mpandas/_libs/parsers.pyx\u001b[0m in \u001b[0;36mpandas._libs.parsers.TextReader._setup_parser_source (pandas/_libs/parsers.c:8873)\u001b[0;34m()\u001b[0m\n",
      "\u001b[0;31mFileNotFoundError\u001b[0m: File b'../data/community_district_housing_units2010.csv' does not exist"
     ]
    }
   ],
=======
   "execution_count": 801,
   "metadata": {},
   "outputs": [],
>>>>>>> d9a3a53771ccffcf0182d26684633232636f6583
   "source": [
    "crime = crime.merge(puma_cd_name, on='cd', how='outer')\n",
    "crime = crime[pd.notnull(crime['CD_Name'])]\n",
    "crime['puma'] = crime['puma'].astype('int64')\n",
    "crime = crime.set_index('puma')"
   ]
  },
  {
   "cell_type": "code",
<<<<<<< HEAD
   "execution_count": 21,
   "metadata": {},
   "outputs": [
    {
     "ename": "FileNotFoundError",
     "evalue": "File b'../data/community_district_population2010.csv' does not exist",
     "output_type": "error",
     "traceback": [
      "\u001b[0;31m---------------------------------------------------------------------------\u001b[0m",
      "\u001b[0;31mFileNotFoundError\u001b[0m                         Traceback (most recent call last)",
      "\u001b[0;32m<ipython-input-21-b861432fb2fb>\u001b[0m in \u001b[0;36m<module>\u001b[0;34m()\u001b[0m\n\u001b[0;32m----> 1\u001b[0;31m \u001b[0mpopulation\u001b[0m \u001b[0;34m=\u001b[0m \u001b[0mpd\u001b[0m\u001b[0;34m.\u001b[0m\u001b[0mread_csv\u001b[0m\u001b[0;34m(\u001b[0m\u001b[0;34m'../data/community_district_population2010.csv'\u001b[0m\u001b[0;34m)\u001b[0m\u001b[0;34m\u001b[0m\u001b[0m\n\u001b[0m\u001b[1;32m      2\u001b[0m \u001b[0mpopulation\u001b[0m\u001b[0;34m[\u001b[0m\u001b[0;34m'Community_District'\u001b[0m\u001b[0;34m]\u001b[0m \u001b[0;34m=\u001b[0m \u001b[0mpopulation\u001b[0m\u001b[0;34m[\u001b[0m\u001b[0;34m'Community_District'\u001b[0m\u001b[0;34m]\u001b[0m\u001b[0;34m.\u001b[0m\u001b[0mstr\u001b[0m\u001b[0;34m.\u001b[0m\u001b[0mlstrip\u001b[0m\u001b[0;34m(\u001b[0m\u001b[0;34m)\u001b[0m\u001b[0;34m\u001b[0m\u001b[0m\n\u001b[1;32m      3\u001b[0m \u001b[0mpopulation\u001b[0m\u001b[0;34m[\u001b[0m\u001b[0;34m'Community_District'\u001b[0m\u001b[0;34m]\u001b[0m \u001b[0;34m=\u001b[0m \u001b[0mpopulation\u001b[0m\u001b[0;34m[\u001b[0m\u001b[0;34m'Community_District'\u001b[0m\u001b[0;34m]\u001b[0m\u001b[0;34m.\u001b[0m\u001b[0mstr\u001b[0m\u001b[0;34m.\u001b[0m\u001b[0mrstrip\u001b[0m\u001b[0;34m(\u001b[0m\u001b[0;34m)\u001b[0m\u001b[0;34m\u001b[0m\u001b[0m\n\u001b[1;32m      4\u001b[0m \u001b[0mpopulation\u001b[0m\u001b[0;34m[\u001b[0m\u001b[0;34m'Borough'\u001b[0m\u001b[0;34m]\u001b[0m\u001b[0;34m,\u001b[0m \u001b[0mpopulation\u001b[0m\u001b[0;34m[\u001b[0m\u001b[0;34m'CD_Number'\u001b[0m\u001b[0;34m]\u001b[0m \u001b[0;34m=\u001b[0m \u001b[0mpopulation\u001b[0m\u001b[0;34m[\u001b[0m\u001b[0;34m'Community_District'\u001b[0m\u001b[0;34m]\u001b[0m\u001b[0;34m.\u001b[0m\u001b[0mstr\u001b[0m\u001b[0;34m.\u001b[0m\u001b[0msplit\u001b[0m\u001b[0;34m(\u001b[0m\u001b[0;34m\" \"\u001b[0m\u001b[0;34m,\u001b[0m\u001b[0;36m1\u001b[0m\u001b[0;34m)\u001b[0m\u001b[0;34m.\u001b[0m\u001b[0mstr\u001b[0m\u001b[0;34m\u001b[0m\u001b[0m\n\u001b[1;32m      5\u001b[0m \u001b[0mpopulation\u001b[0m\u001b[0;34m[\u001b[0m\u001b[0;34m'CD_Number'\u001b[0m\u001b[0;34m]\u001b[0m\u001b[0;34m=\u001b[0m \u001b[0mpopulation\u001b[0m\u001b[0;34m[\u001b[0m\u001b[0;34m'CD_Number'\u001b[0m\u001b[0;34m]\u001b[0m\u001b[0;34m.\u001b[0m\u001b[0mstr\u001b[0m\u001b[0;34m.\u001b[0m\u001b[0mzfill\u001b[0m\u001b[0;34m(\u001b[0m\u001b[0;36m2\u001b[0m\u001b[0;34m)\u001b[0m\u001b[0;34m\u001b[0m\u001b[0m\n",
      "\u001b[0;32m~/anaconda3/lib/python3.6/site-packages/pandas/io/parsers.py\u001b[0m in \u001b[0;36mparser_f\u001b[0;34m(filepath_or_buffer, sep, delimiter, header, names, index_col, usecols, squeeze, prefix, mangle_dupe_cols, dtype, engine, converters, true_values, false_values, skipinitialspace, skiprows, nrows, na_values, keep_default_na, na_filter, verbose, skip_blank_lines, parse_dates, infer_datetime_format, keep_date_col, date_parser, dayfirst, iterator, chunksize, compression, thousands, decimal, lineterminator, quotechar, quoting, escapechar, comment, encoding, dialect, tupleize_cols, error_bad_lines, warn_bad_lines, skipfooter, skip_footer, doublequote, delim_whitespace, as_recarray, compact_ints, use_unsigned, low_memory, buffer_lines, memory_map, float_precision)\u001b[0m\n\u001b[1;32m    653\u001b[0m                     skip_blank_lines=skip_blank_lines)\n\u001b[1;32m    654\u001b[0m \u001b[0;34m\u001b[0m\u001b[0m\n\u001b[0;32m--> 655\u001b[0;31m         \u001b[0;32mreturn\u001b[0m \u001b[0m_read\u001b[0m\u001b[0;34m(\u001b[0m\u001b[0mfilepath_or_buffer\u001b[0m\u001b[0;34m,\u001b[0m \u001b[0mkwds\u001b[0m\u001b[0;34m)\u001b[0m\u001b[0;34m\u001b[0m\u001b[0m\n\u001b[0m\u001b[1;32m    656\u001b[0m \u001b[0;34m\u001b[0m\u001b[0m\n\u001b[1;32m    657\u001b[0m     \u001b[0mparser_f\u001b[0m\u001b[0;34m.\u001b[0m\u001b[0m__name__\u001b[0m \u001b[0;34m=\u001b[0m \u001b[0mname\u001b[0m\u001b[0;34m\u001b[0m\u001b[0m\n",
      "\u001b[0;32m~/anaconda3/lib/python3.6/site-packages/pandas/io/parsers.py\u001b[0m in \u001b[0;36m_read\u001b[0;34m(filepath_or_buffer, kwds)\u001b[0m\n\u001b[1;32m    403\u001b[0m \u001b[0;34m\u001b[0m\u001b[0m\n\u001b[1;32m    404\u001b[0m     \u001b[0;31m# Create the parser.\u001b[0m\u001b[0;34m\u001b[0m\u001b[0;34m\u001b[0m\u001b[0m\n\u001b[0;32m--> 405\u001b[0;31m     \u001b[0mparser\u001b[0m \u001b[0;34m=\u001b[0m \u001b[0mTextFileReader\u001b[0m\u001b[0;34m(\u001b[0m\u001b[0mfilepath_or_buffer\u001b[0m\u001b[0;34m,\u001b[0m \u001b[0;34m**\u001b[0m\u001b[0mkwds\u001b[0m\u001b[0;34m)\u001b[0m\u001b[0;34m\u001b[0m\u001b[0m\n\u001b[0m\u001b[1;32m    406\u001b[0m \u001b[0;34m\u001b[0m\u001b[0m\n\u001b[1;32m    407\u001b[0m     \u001b[0;32mif\u001b[0m \u001b[0mchunksize\u001b[0m \u001b[0;32mor\u001b[0m \u001b[0miterator\u001b[0m\u001b[0;34m:\u001b[0m\u001b[0;34m\u001b[0m\u001b[0m\n",
      "\u001b[0;32m~/anaconda3/lib/python3.6/site-packages/pandas/io/parsers.py\u001b[0m in \u001b[0;36m__init__\u001b[0;34m(self, f, engine, **kwds)\u001b[0m\n\u001b[1;32m    762\u001b[0m             \u001b[0mself\u001b[0m\u001b[0;34m.\u001b[0m\u001b[0moptions\u001b[0m\u001b[0;34m[\u001b[0m\u001b[0;34m'has_index_names'\u001b[0m\u001b[0;34m]\u001b[0m \u001b[0;34m=\u001b[0m \u001b[0mkwds\u001b[0m\u001b[0;34m[\u001b[0m\u001b[0;34m'has_index_names'\u001b[0m\u001b[0;34m]\u001b[0m\u001b[0;34m\u001b[0m\u001b[0m\n\u001b[1;32m    763\u001b[0m \u001b[0;34m\u001b[0m\u001b[0m\n\u001b[0;32m--> 764\u001b[0;31m         \u001b[0mself\u001b[0m\u001b[0;34m.\u001b[0m\u001b[0m_make_engine\u001b[0m\u001b[0;34m(\u001b[0m\u001b[0mself\u001b[0m\u001b[0;34m.\u001b[0m\u001b[0mengine\u001b[0m\u001b[0;34m)\u001b[0m\u001b[0;34m\u001b[0m\u001b[0m\n\u001b[0m\u001b[1;32m    765\u001b[0m \u001b[0;34m\u001b[0m\u001b[0m\n\u001b[1;32m    766\u001b[0m     \u001b[0;32mdef\u001b[0m \u001b[0mclose\u001b[0m\u001b[0;34m(\u001b[0m\u001b[0mself\u001b[0m\u001b[0;34m)\u001b[0m\u001b[0;34m:\u001b[0m\u001b[0;34m\u001b[0m\u001b[0m\n",
      "\u001b[0;32m~/anaconda3/lib/python3.6/site-packages/pandas/io/parsers.py\u001b[0m in \u001b[0;36m_make_engine\u001b[0;34m(self, engine)\u001b[0m\n\u001b[1;32m    983\u001b[0m     \u001b[0;32mdef\u001b[0m \u001b[0m_make_engine\u001b[0m\u001b[0;34m(\u001b[0m\u001b[0mself\u001b[0m\u001b[0;34m,\u001b[0m \u001b[0mengine\u001b[0m\u001b[0;34m=\u001b[0m\u001b[0;34m'c'\u001b[0m\u001b[0;34m)\u001b[0m\u001b[0;34m:\u001b[0m\u001b[0;34m\u001b[0m\u001b[0m\n\u001b[1;32m    984\u001b[0m         \u001b[0;32mif\u001b[0m \u001b[0mengine\u001b[0m \u001b[0;34m==\u001b[0m \u001b[0;34m'c'\u001b[0m\u001b[0;34m:\u001b[0m\u001b[0;34m\u001b[0m\u001b[0m\n\u001b[0;32m--> 985\u001b[0;31m             \u001b[0mself\u001b[0m\u001b[0;34m.\u001b[0m\u001b[0m_engine\u001b[0m \u001b[0;34m=\u001b[0m \u001b[0mCParserWrapper\u001b[0m\u001b[0;34m(\u001b[0m\u001b[0mself\u001b[0m\u001b[0;34m.\u001b[0m\u001b[0mf\u001b[0m\u001b[0;34m,\u001b[0m \u001b[0;34m**\u001b[0m\u001b[0mself\u001b[0m\u001b[0;34m.\u001b[0m\u001b[0moptions\u001b[0m\u001b[0;34m)\u001b[0m\u001b[0;34m\u001b[0m\u001b[0m\n\u001b[0m\u001b[1;32m    986\u001b[0m         \u001b[0;32melse\u001b[0m\u001b[0;34m:\u001b[0m\u001b[0;34m\u001b[0m\u001b[0m\n\u001b[1;32m    987\u001b[0m             \u001b[0;32mif\u001b[0m \u001b[0mengine\u001b[0m \u001b[0;34m==\u001b[0m \u001b[0;34m'python'\u001b[0m\u001b[0;34m:\u001b[0m\u001b[0;34m\u001b[0m\u001b[0m\n",
      "\u001b[0;32m~/anaconda3/lib/python3.6/site-packages/pandas/io/parsers.py\u001b[0m in \u001b[0;36m__init__\u001b[0;34m(self, src, **kwds)\u001b[0m\n\u001b[1;32m   1603\u001b[0m         \u001b[0mkwds\u001b[0m\u001b[0;34m[\u001b[0m\u001b[0;34m'allow_leading_cols'\u001b[0m\u001b[0;34m]\u001b[0m \u001b[0;34m=\u001b[0m \u001b[0mself\u001b[0m\u001b[0;34m.\u001b[0m\u001b[0mindex_col\u001b[0m \u001b[0;32mis\u001b[0m \u001b[0;32mnot\u001b[0m \u001b[0;32mFalse\u001b[0m\u001b[0;34m\u001b[0m\u001b[0m\n\u001b[1;32m   1604\u001b[0m \u001b[0;34m\u001b[0m\u001b[0m\n\u001b[0;32m-> 1605\u001b[0;31m         \u001b[0mself\u001b[0m\u001b[0;34m.\u001b[0m\u001b[0m_reader\u001b[0m \u001b[0;34m=\u001b[0m \u001b[0mparsers\u001b[0m\u001b[0;34m.\u001b[0m\u001b[0mTextReader\u001b[0m\u001b[0;34m(\u001b[0m\u001b[0msrc\u001b[0m\u001b[0;34m,\u001b[0m \u001b[0;34m**\u001b[0m\u001b[0mkwds\u001b[0m\u001b[0;34m)\u001b[0m\u001b[0;34m\u001b[0m\u001b[0m\n\u001b[0m\u001b[1;32m   1606\u001b[0m \u001b[0;34m\u001b[0m\u001b[0m\n\u001b[1;32m   1607\u001b[0m         \u001b[0;31m# XXX\u001b[0m\u001b[0;34m\u001b[0m\u001b[0;34m\u001b[0m\u001b[0m\n",
      "\u001b[0;32mpandas/_libs/parsers.pyx\u001b[0m in \u001b[0;36mpandas._libs.parsers.TextReader.__cinit__ (pandas/_libs/parsers.c:4209)\u001b[0;34m()\u001b[0m\n",
      "\u001b[0;32mpandas/_libs/parsers.pyx\u001b[0m in \u001b[0;36mpandas._libs.parsers.TextReader._setup_parser_source (pandas/_libs/parsers.c:8873)\u001b[0;34m()\u001b[0m\n",
      "\u001b[0;31mFileNotFoundError\u001b[0m: File b'../data/community_district_population2010.csv' does not exist"
     ]
    }
   ],
=======
   "execution_count": 802,
   "metadata": {},
   "outputs": [],
>>>>>>> d9a3a53771ccffcf0182d26684633232636f6583
   "source": [
    "years = [str(y) for y in range(2005,2017)]\n",
    "subways = pd.concat([subways['2016']]*12, axis=1)\n",
    "subways.columns = years"
   ]
  },
  {
   "cell_type": "code",
<<<<<<< HEAD
   "execution_count": 22,
=======
   "execution_count": 803,
>>>>>>> d9a3a53771ccffcf0182d26684633232636f6583
   "metadata": {},
   "outputs": [
    {
     "ename": "NameError",
     "evalue": "name 'housing_units' is not defined",
     "output_type": "error",
     "traceback": [
      "\u001b[0;31m---------------------------------------------------------------------------\u001b[0m",
      "\u001b[0;31mNameError\u001b[0m                                 Traceback (most recent call last)",
      "\u001b[0;32m<ipython-input-22-f34cf89f39b1>\u001b[0m in \u001b[0;36m<module>\u001b[0;34m()\u001b[0m\n\u001b[1;32m      4\u001b[0m \u001b[0mmerged\u001b[0m \u001b[0;34m=\u001b[0m \u001b[0;34m[\u001b[0m\u001b[0;34m]\u001b[0m\u001b[0;34m\u001b[0m\u001b[0m\n\u001b[1;32m      5\u001b[0m \u001b[0;32mfor\u001b[0m \u001b[0mi\u001b[0m\u001b[0;34m,\u001b[0m\u001b[0;34m(\u001b[0m\u001b[0ma\u001b[0m\u001b[0;34m,\u001b[0m\u001b[0mb\u001b[0m\u001b[0;34m)\u001b[0m \u001b[0;32min\u001b[0m \u001b[0menumerate\u001b[0m\u001b[0;34m(\u001b[0m\u001b[0mmerging\u001b[0m\u001b[0;34m)\u001b[0m\u001b[0;34m:\u001b[0m\u001b[0;34m\u001b[0m\u001b[0m\n\u001b[0;32m----> 6\u001b[0;31m     \u001b[0mu\u001b[0m \u001b[0;34m=\u001b[0m \u001b[0mfloat\u001b[0m\u001b[0;34m(\u001b[0m\u001b[0mhousing_units\u001b[0m\u001b[0;34m[\u001b[0m\u001b[0mhousing_units\u001b[0m\u001b[0;34m[\u001b[0m\u001b[0;34m'Community_District'\u001b[0m\u001b[0;34m]\u001b[0m\u001b[0;34m==\u001b[0m\u001b[0ma\u001b[0m\u001b[0;34m]\u001b[0m\u001b[0;34m[\u001b[0m\u001b[0;34m'Units'\u001b[0m\u001b[0;34m]\u001b[0m\u001b[0;34m.\u001b[0m\u001b[0mvalues\u001b[0m\u001b[0;34m[\u001b[0m\u001b[0;36m0\u001b[0m\u001b[0;34m]\u001b[0m\u001b[0;34m.\u001b[0m\u001b[0mreplace\u001b[0m\u001b[0;34m(\u001b[0m\u001b[0;34m','\u001b[0m\u001b[0;34m,\u001b[0m\u001b[0;34m''\u001b[0m\u001b[0;34m)\u001b[0m\u001b[0;34m)\u001b[0m\u001b[0;34m\u001b[0m\u001b[0m\n\u001b[0m\u001b[1;32m      7\u001b[0m     \u001b[0mv\u001b[0m \u001b[0;34m=\u001b[0m \u001b[0mfloat\u001b[0m\u001b[0;34m(\u001b[0m\u001b[0mhousing_units\u001b[0m\u001b[0;34m[\u001b[0m\u001b[0mhousing_units\u001b[0m\u001b[0;34m[\u001b[0m\u001b[0;34m'Community_District'\u001b[0m\u001b[0;34m]\u001b[0m\u001b[0;34m==\u001b[0m\u001b[0mb\u001b[0m\u001b[0;34m]\u001b[0m\u001b[0;34m[\u001b[0m\u001b[0;34m'Units'\u001b[0m\u001b[0;34m]\u001b[0m\u001b[0;34m.\u001b[0m\u001b[0mvalues\u001b[0m\u001b[0;34m[\u001b[0m\u001b[0;36m0\u001b[0m\u001b[0;34m]\u001b[0m\u001b[0;34m.\u001b[0m\u001b[0mreplace\u001b[0m\u001b[0;34m(\u001b[0m\u001b[0;34m','\u001b[0m\u001b[0;34m,\u001b[0m\u001b[0;34m''\u001b[0m\u001b[0;34m)\u001b[0m\u001b[0;34m)\u001b[0m\u001b[0;34m\u001b[0m\u001b[0m\n\u001b[1;32m      8\u001b[0m     \u001b[0mdenom\u001b[0m \u001b[0;34m=\u001b[0m \u001b[0mu\u001b[0m \u001b[0;34m+\u001b[0m \u001b[0mv\u001b[0m\u001b[0;34m\u001b[0m\u001b[0m\n",
      "\u001b[0;31mNameError\u001b[0m: name 'housing_units' is not defined"
     ]
    }
   ],
   "source": [
    "# horrendous and lazy way to fill in missing values\n",
    "lineup = crime['2006'].values\n",
    "crime.insert(0, '2005', lineup)"
   ]
  },
  {
   "cell_type": "code",
<<<<<<< HEAD
   "execution_count": 23,
=======
   "execution_count": 820,
>>>>>>> d9a3a53771ccffcf0182d26684633232636f6583
   "metadata": {},
   "outputs": [
    {
     "ename": "FileNotFoundError",
     "evalue": "File b'../data/communitydistrict-unitsauthorizedbynewresidentialbuildingpermits.csv' does not exist",
     "output_type": "error",
     "traceback": [
      "\u001b[0;31m---------------------------------------------------------------------------\u001b[0m",
      "\u001b[0;31mFileNotFoundError\u001b[0m                         Traceback (most recent call last)",
      "\u001b[0;32m<ipython-input-23-4f5e9746dd98>\u001b[0m in \u001b[0;36m<module>\u001b[0;34m()\u001b[0m\n\u001b[0;32m----> 1\u001b[0;31m \u001b[0mnew_units\u001b[0m \u001b[0;34m=\u001b[0m \u001b[0mpd\u001b[0m\u001b[0;34m.\u001b[0m\u001b[0mread_csv\u001b[0m\u001b[0;34m(\u001b[0m\u001b[0;34m'../data/communitydistrict-unitsauthorizedbynewresidentialbuildingpermits.csv'\u001b[0m\u001b[0;34m)\u001b[0m\u001b[0;34m\u001b[0m\u001b[0m\n\u001b[0m\u001b[1;32m      2\u001b[0m \u001b[0mnew_units\u001b[0m\u001b[0;34m[\u001b[0m\u001b[0;34m'CD'\u001b[0m\u001b[0;34m]\u001b[0m\u001b[0;34m,\u001b[0m \u001b[0mnew_units\u001b[0m\u001b[0;34m[\u001b[0m\u001b[0;34m'CD_Name'\u001b[0m\u001b[0;34m]\u001b[0m \u001b[0;34m=\u001b[0m \u001b[0mnew_units\u001b[0m\u001b[0;34m[\u001b[0m\u001b[0;34m'Community District'\u001b[0m\u001b[0;34m]\u001b[0m\u001b[0;34m.\u001b[0m\u001b[0mstr\u001b[0m\u001b[0;34m.\u001b[0m\u001b[0msplit\u001b[0m\u001b[0;34m(\u001b[0m\u001b[0;34m\" - \"\u001b[0m\u001b[0;34m,\u001b[0m\u001b[0;36m1\u001b[0m\u001b[0;34m)\u001b[0m\u001b[0;34m.\u001b[0m\u001b[0mstr\u001b[0m\u001b[0;34m\u001b[0m\u001b[0m\n\u001b[1;32m      3\u001b[0m \u001b[0;32mfor\u001b[0m \u001b[0mi\u001b[0m\u001b[0;34m,\u001b[0m\u001b[0;34m(\u001b[0m\u001b[0ma\u001b[0m\u001b[0;34m,\u001b[0m\u001b[0mb\u001b[0m\u001b[0;34m)\u001b[0m \u001b[0;32min\u001b[0m \u001b[0menumerate\u001b[0m\u001b[0;34m(\u001b[0m\u001b[0mmerging\u001b[0m\u001b[0;34m)\u001b[0m\u001b[0;34m:\u001b[0m\u001b[0;34m\u001b[0m\u001b[0m\n\u001b[1;32m      4\u001b[0m     \u001b[0mu\u001b[0m \u001b[0;34m=\u001b[0m \u001b[0mfloat\u001b[0m\u001b[0;34m(\u001b[0m\u001b[0mhousing_units\u001b[0m\u001b[0;34m[\u001b[0m\u001b[0mhousing_units\u001b[0m\u001b[0;34m[\u001b[0m\u001b[0;34m'Community_District'\u001b[0m\u001b[0;34m]\u001b[0m\u001b[0;34m==\u001b[0m\u001b[0ma\u001b[0m\u001b[0;34m]\u001b[0m\u001b[0;34m[\u001b[0m\u001b[0;34m'Units'\u001b[0m\u001b[0;34m]\u001b[0m\u001b[0;34m.\u001b[0m\u001b[0mvalues\u001b[0m\u001b[0;34m[\u001b[0m\u001b[0;36m0\u001b[0m\u001b[0;34m]\u001b[0m\u001b[0;34m.\u001b[0m\u001b[0mreplace\u001b[0m\u001b[0;34m(\u001b[0m\u001b[0;34m','\u001b[0m\u001b[0;34m,\u001b[0m\u001b[0;34m''\u001b[0m\u001b[0;34m)\u001b[0m\u001b[0;34m)\u001b[0m\u001b[0;34m\u001b[0m\u001b[0m\n\u001b[1;32m      5\u001b[0m     \u001b[0mv\u001b[0m \u001b[0;34m=\u001b[0m \u001b[0mfloat\u001b[0m\u001b[0;34m(\u001b[0m\u001b[0mhousing_units\u001b[0m\u001b[0;34m[\u001b[0m\u001b[0mhousing_units\u001b[0m\u001b[0;34m[\u001b[0m\u001b[0;34m'Community_District'\u001b[0m\u001b[0;34m]\u001b[0m\u001b[0;34m==\u001b[0m\u001b[0mb\u001b[0m\u001b[0;34m]\u001b[0m\u001b[0;34m[\u001b[0m\u001b[0;34m'Units'\u001b[0m\u001b[0;34m]\u001b[0m\u001b[0;34m.\u001b[0m\u001b[0mvalues\u001b[0m\u001b[0;34m[\u001b[0m\u001b[0;36m0\u001b[0m\u001b[0;34m]\u001b[0m\u001b[0;34m.\u001b[0m\u001b[0mreplace\u001b[0m\u001b[0;34m(\u001b[0m\u001b[0;34m','\u001b[0m\u001b[0;34m,\u001b[0m\u001b[0;34m''\u001b[0m\u001b[0;34m)\u001b[0m\u001b[0;34m)\u001b[0m\u001b[0;34m\u001b[0m\u001b[0m\n",
      "\u001b[0;32m~/anaconda3/lib/python3.6/site-packages/pandas/io/parsers.py\u001b[0m in \u001b[0;36mparser_f\u001b[0;34m(filepath_or_buffer, sep, delimiter, header, names, index_col, usecols, squeeze, prefix, mangle_dupe_cols, dtype, engine, converters, true_values, false_values, skipinitialspace, skiprows, nrows, na_values, keep_default_na, na_filter, verbose, skip_blank_lines, parse_dates, infer_datetime_format, keep_date_col, date_parser, dayfirst, iterator, chunksize, compression, thousands, decimal, lineterminator, quotechar, quoting, escapechar, comment, encoding, dialect, tupleize_cols, error_bad_lines, warn_bad_lines, skipfooter, skip_footer, doublequote, delim_whitespace, as_recarray, compact_ints, use_unsigned, low_memory, buffer_lines, memory_map, float_precision)\u001b[0m\n\u001b[1;32m    653\u001b[0m                     skip_blank_lines=skip_blank_lines)\n\u001b[1;32m    654\u001b[0m \u001b[0;34m\u001b[0m\u001b[0m\n\u001b[0;32m--> 655\u001b[0;31m         \u001b[0;32mreturn\u001b[0m \u001b[0m_read\u001b[0m\u001b[0;34m(\u001b[0m\u001b[0mfilepath_or_buffer\u001b[0m\u001b[0;34m,\u001b[0m \u001b[0mkwds\u001b[0m\u001b[0;34m)\u001b[0m\u001b[0;34m\u001b[0m\u001b[0m\n\u001b[0m\u001b[1;32m    656\u001b[0m \u001b[0;34m\u001b[0m\u001b[0m\n\u001b[1;32m    657\u001b[0m     \u001b[0mparser_f\u001b[0m\u001b[0;34m.\u001b[0m\u001b[0m__name__\u001b[0m \u001b[0;34m=\u001b[0m \u001b[0mname\u001b[0m\u001b[0;34m\u001b[0m\u001b[0m\n",
      "\u001b[0;32m~/anaconda3/lib/python3.6/site-packages/pandas/io/parsers.py\u001b[0m in \u001b[0;36m_read\u001b[0;34m(filepath_or_buffer, kwds)\u001b[0m\n\u001b[1;32m    403\u001b[0m \u001b[0;34m\u001b[0m\u001b[0m\n\u001b[1;32m    404\u001b[0m     \u001b[0;31m# Create the parser.\u001b[0m\u001b[0;34m\u001b[0m\u001b[0;34m\u001b[0m\u001b[0m\n\u001b[0;32m--> 405\u001b[0;31m     \u001b[0mparser\u001b[0m \u001b[0;34m=\u001b[0m \u001b[0mTextFileReader\u001b[0m\u001b[0;34m(\u001b[0m\u001b[0mfilepath_or_buffer\u001b[0m\u001b[0;34m,\u001b[0m \u001b[0;34m**\u001b[0m\u001b[0mkwds\u001b[0m\u001b[0;34m)\u001b[0m\u001b[0;34m\u001b[0m\u001b[0m\n\u001b[0m\u001b[1;32m    406\u001b[0m \u001b[0;34m\u001b[0m\u001b[0m\n\u001b[1;32m    407\u001b[0m     \u001b[0;32mif\u001b[0m \u001b[0mchunksize\u001b[0m \u001b[0;32mor\u001b[0m \u001b[0miterator\u001b[0m\u001b[0;34m:\u001b[0m\u001b[0;34m\u001b[0m\u001b[0m\n",
      "\u001b[0;32m~/anaconda3/lib/python3.6/site-packages/pandas/io/parsers.py\u001b[0m in \u001b[0;36m__init__\u001b[0;34m(self, f, engine, **kwds)\u001b[0m\n\u001b[1;32m    762\u001b[0m             \u001b[0mself\u001b[0m\u001b[0;34m.\u001b[0m\u001b[0moptions\u001b[0m\u001b[0;34m[\u001b[0m\u001b[0;34m'has_index_names'\u001b[0m\u001b[0;34m]\u001b[0m \u001b[0;34m=\u001b[0m \u001b[0mkwds\u001b[0m\u001b[0;34m[\u001b[0m\u001b[0;34m'has_index_names'\u001b[0m\u001b[0;34m]\u001b[0m\u001b[0;34m\u001b[0m\u001b[0m\n\u001b[1;32m    763\u001b[0m \u001b[0;34m\u001b[0m\u001b[0m\n\u001b[0;32m--> 764\u001b[0;31m         \u001b[0mself\u001b[0m\u001b[0;34m.\u001b[0m\u001b[0m_make_engine\u001b[0m\u001b[0;34m(\u001b[0m\u001b[0mself\u001b[0m\u001b[0;34m.\u001b[0m\u001b[0mengine\u001b[0m\u001b[0;34m)\u001b[0m\u001b[0;34m\u001b[0m\u001b[0m\n\u001b[0m\u001b[1;32m    765\u001b[0m \u001b[0;34m\u001b[0m\u001b[0m\n\u001b[1;32m    766\u001b[0m     \u001b[0;32mdef\u001b[0m \u001b[0mclose\u001b[0m\u001b[0;34m(\u001b[0m\u001b[0mself\u001b[0m\u001b[0;34m)\u001b[0m\u001b[0;34m:\u001b[0m\u001b[0;34m\u001b[0m\u001b[0m\n",
      "\u001b[0;32m~/anaconda3/lib/python3.6/site-packages/pandas/io/parsers.py\u001b[0m in \u001b[0;36m_make_engine\u001b[0;34m(self, engine)\u001b[0m\n\u001b[1;32m    983\u001b[0m     \u001b[0;32mdef\u001b[0m \u001b[0m_make_engine\u001b[0m\u001b[0;34m(\u001b[0m\u001b[0mself\u001b[0m\u001b[0;34m,\u001b[0m \u001b[0mengine\u001b[0m\u001b[0;34m=\u001b[0m\u001b[0;34m'c'\u001b[0m\u001b[0;34m)\u001b[0m\u001b[0;34m:\u001b[0m\u001b[0;34m\u001b[0m\u001b[0m\n\u001b[1;32m    984\u001b[0m         \u001b[0;32mif\u001b[0m \u001b[0mengine\u001b[0m \u001b[0;34m==\u001b[0m \u001b[0;34m'c'\u001b[0m\u001b[0;34m:\u001b[0m\u001b[0;34m\u001b[0m\u001b[0m\n\u001b[0;32m--> 985\u001b[0;31m             \u001b[0mself\u001b[0m\u001b[0;34m.\u001b[0m\u001b[0m_engine\u001b[0m \u001b[0;34m=\u001b[0m \u001b[0mCParserWrapper\u001b[0m\u001b[0;34m(\u001b[0m\u001b[0mself\u001b[0m\u001b[0;34m.\u001b[0m\u001b[0mf\u001b[0m\u001b[0;34m,\u001b[0m \u001b[0;34m**\u001b[0m\u001b[0mself\u001b[0m\u001b[0;34m.\u001b[0m\u001b[0moptions\u001b[0m\u001b[0;34m)\u001b[0m\u001b[0;34m\u001b[0m\u001b[0m\n\u001b[0m\u001b[1;32m    986\u001b[0m         \u001b[0;32melse\u001b[0m\u001b[0;34m:\u001b[0m\u001b[0;34m\u001b[0m\u001b[0m\n\u001b[1;32m    987\u001b[0m             \u001b[0;32mif\u001b[0m \u001b[0mengine\u001b[0m \u001b[0;34m==\u001b[0m \u001b[0;34m'python'\u001b[0m\u001b[0;34m:\u001b[0m\u001b[0;34m\u001b[0m\u001b[0m\n",
      "\u001b[0;32m~/anaconda3/lib/python3.6/site-packages/pandas/io/parsers.py\u001b[0m in \u001b[0;36m__init__\u001b[0;34m(self, src, **kwds)\u001b[0m\n\u001b[1;32m   1603\u001b[0m         \u001b[0mkwds\u001b[0m\u001b[0;34m[\u001b[0m\u001b[0;34m'allow_leading_cols'\u001b[0m\u001b[0;34m]\u001b[0m \u001b[0;34m=\u001b[0m \u001b[0mself\u001b[0m\u001b[0;34m.\u001b[0m\u001b[0mindex_col\u001b[0m \u001b[0;32mis\u001b[0m \u001b[0;32mnot\u001b[0m \u001b[0;32mFalse\u001b[0m\u001b[0;34m\u001b[0m\u001b[0m\n\u001b[1;32m   1604\u001b[0m \u001b[0;34m\u001b[0m\u001b[0m\n\u001b[0;32m-> 1605\u001b[0;31m         \u001b[0mself\u001b[0m\u001b[0;34m.\u001b[0m\u001b[0m_reader\u001b[0m \u001b[0;34m=\u001b[0m \u001b[0mparsers\u001b[0m\u001b[0;34m.\u001b[0m\u001b[0mTextReader\u001b[0m\u001b[0;34m(\u001b[0m\u001b[0msrc\u001b[0m\u001b[0;34m,\u001b[0m \u001b[0;34m**\u001b[0m\u001b[0mkwds\u001b[0m\u001b[0;34m)\u001b[0m\u001b[0;34m\u001b[0m\u001b[0m\n\u001b[0m\u001b[1;32m   1606\u001b[0m \u001b[0;34m\u001b[0m\u001b[0m\n\u001b[1;32m   1607\u001b[0m         \u001b[0;31m# XXX\u001b[0m\u001b[0;34m\u001b[0m\u001b[0;34m\u001b[0m\u001b[0m\n",
      "\u001b[0;32mpandas/_libs/parsers.pyx\u001b[0m in \u001b[0;36mpandas._libs.parsers.TextReader.__cinit__ (pandas/_libs/parsers.c:4209)\u001b[0;34m()\u001b[0m\n",
      "\u001b[0;32mpandas/_libs/parsers.pyx\u001b[0m in \u001b[0;36mpandas._libs.parsers.TextReader._setup_parser_source (pandas/_libs/parsers.c:8873)\u001b[0;34m()\u001b[0m\n",
      "\u001b[0;31mFileNotFoundError\u001b[0m: File b'../data/communitydistrict-unitsauthorizedbynewresidentialbuildingpermits.csv' does not exist"
     ]
    }
   ],
   "source": [
    "median_incomes = median_incomes.sort_index()\n",
    "education_levels = education_levels.sort_index()\n",
    "percents_white = percents_white.sort_index()\n",
    "percents_white[years] = percents_white[years].interpolate(method='linear', axis = 0)\n",
    "subways = subways.sort_index()\n",
    "new_units[years] = new_units[years].interpolate(method='linear', axis = 0)\n",
    "new_units = new_units.sort_index()\n",
    "crime = crime.sort_index()\n",
    "neighbor_means = neighbor_means.sort_index()\n",
    "median_rents = median_rents.sort_index()"
   ]
  },
  {
   "cell_type": "code",
<<<<<<< HEAD
   "execution_count": 24,
=======
   "execution_count": 827,
>>>>>>> d9a3a53771ccffcf0182d26684633232636f6583
   "metadata": {},
   "outputs": [
    {
     "ename": "FileNotFoundError",
     "evalue": "File b'../data/communitydistrict-seriouscrimerateper1000residents.csv' does not exist",
     "output_type": "error",
     "traceback": [
      "\u001b[0;31m---------------------------------------------------------------------------\u001b[0m",
      "\u001b[0;31mFileNotFoundError\u001b[0m                         Traceback (most recent call last)",
      "\u001b[0;32m<ipython-input-24-1041eb8e383f>\u001b[0m in \u001b[0;36m<module>\u001b[0;34m()\u001b[0m\n\u001b[0;32m----> 1\u001b[0;31m \u001b[0mcrime\u001b[0m \u001b[0;34m=\u001b[0m \u001b[0mpd\u001b[0m\u001b[0;34m.\u001b[0m\u001b[0mread_csv\u001b[0m\u001b[0;34m(\u001b[0m\u001b[0;34m'../data/communitydistrict-seriouscrimerateper1000residents.csv'\u001b[0m\u001b[0;34m)\u001b[0m\u001b[0;34m\u001b[0m\u001b[0m\n\u001b[0m\u001b[1;32m      2\u001b[0m \u001b[0mcrime\u001b[0m\u001b[0;34m[\u001b[0m\u001b[0;34m'CD'\u001b[0m\u001b[0;34m]\u001b[0m\u001b[0;34m,\u001b[0m \u001b[0mcrime\u001b[0m\u001b[0;34m[\u001b[0m\u001b[0;34m'CD_Name'\u001b[0m\u001b[0;34m]\u001b[0m \u001b[0;34m=\u001b[0m \u001b[0mcrime\u001b[0m\u001b[0;34m[\u001b[0m\u001b[0;34m'Community District'\u001b[0m\u001b[0;34m]\u001b[0m\u001b[0;34m.\u001b[0m\u001b[0mstr\u001b[0m\u001b[0;34m.\u001b[0m\u001b[0msplit\u001b[0m\u001b[0;34m(\u001b[0m\u001b[0;34m\" - \"\u001b[0m\u001b[0;34m,\u001b[0m\u001b[0;36m1\u001b[0m\u001b[0;34m)\u001b[0m\u001b[0;34m.\u001b[0m\u001b[0mstr\u001b[0m\u001b[0;34m\u001b[0m\u001b[0m\n\u001b[1;32m      3\u001b[0m \u001b[0mmerged\u001b[0m \u001b[0;34m=\u001b[0m \u001b[0;34m[\u001b[0m\u001b[0;34m]\u001b[0m\u001b[0;34m\u001b[0m\u001b[0m\n\u001b[1;32m      4\u001b[0m \u001b[0;32mfor\u001b[0m \u001b[0mi\u001b[0m\u001b[0;34m,\u001b[0m\u001b[0;34m(\u001b[0m\u001b[0ma\u001b[0m\u001b[0;34m,\u001b[0m\u001b[0mb\u001b[0m\u001b[0;34m)\u001b[0m \u001b[0;32min\u001b[0m \u001b[0menumerate\u001b[0m\u001b[0;34m(\u001b[0m\u001b[0mmerging\u001b[0m\u001b[0;34m)\u001b[0m\u001b[0;34m:\u001b[0m\u001b[0;34m\u001b[0m\u001b[0m\n\u001b[1;32m      5\u001b[0m     \u001b[0mu\u001b[0m \u001b[0;34m=\u001b[0m \u001b[0mpopulation\u001b[0m\u001b[0;34m[\u001b[0m\u001b[0mpopulation\u001b[0m\u001b[0;34m[\u001b[0m\u001b[0;34m'Community_District'\u001b[0m\u001b[0;34m]\u001b[0m\u001b[0;34m==\u001b[0m\u001b[0ma\u001b[0m\u001b[0;34m]\u001b[0m\u001b[0;34m[\u001b[0m\u001b[0;34m'Population'\u001b[0m\u001b[0;34m]\u001b[0m\u001b[0;34m.\u001b[0m\u001b[0mvalues\u001b[0m\u001b[0;34m[\u001b[0m\u001b[0;36m0\u001b[0m\u001b[0;34m]\u001b[0m\u001b[0;34m\u001b[0m\u001b[0m\n",
      "\u001b[0;32m~/anaconda3/lib/python3.6/site-packages/pandas/io/parsers.py\u001b[0m in \u001b[0;36mparser_f\u001b[0;34m(filepath_or_buffer, sep, delimiter, header, names, index_col, usecols, squeeze, prefix, mangle_dupe_cols, dtype, engine, converters, true_values, false_values, skipinitialspace, skiprows, nrows, na_values, keep_default_na, na_filter, verbose, skip_blank_lines, parse_dates, infer_datetime_format, keep_date_col, date_parser, dayfirst, iterator, chunksize, compression, thousands, decimal, lineterminator, quotechar, quoting, escapechar, comment, encoding, dialect, tupleize_cols, error_bad_lines, warn_bad_lines, skipfooter, skip_footer, doublequote, delim_whitespace, as_recarray, compact_ints, use_unsigned, low_memory, buffer_lines, memory_map, float_precision)\u001b[0m\n\u001b[1;32m    653\u001b[0m                     skip_blank_lines=skip_blank_lines)\n\u001b[1;32m    654\u001b[0m \u001b[0;34m\u001b[0m\u001b[0m\n\u001b[0;32m--> 655\u001b[0;31m         \u001b[0;32mreturn\u001b[0m \u001b[0m_read\u001b[0m\u001b[0;34m(\u001b[0m\u001b[0mfilepath_or_buffer\u001b[0m\u001b[0;34m,\u001b[0m \u001b[0mkwds\u001b[0m\u001b[0;34m)\u001b[0m\u001b[0;34m\u001b[0m\u001b[0m\n\u001b[0m\u001b[1;32m    656\u001b[0m \u001b[0;34m\u001b[0m\u001b[0m\n\u001b[1;32m    657\u001b[0m     \u001b[0mparser_f\u001b[0m\u001b[0;34m.\u001b[0m\u001b[0m__name__\u001b[0m \u001b[0;34m=\u001b[0m \u001b[0mname\u001b[0m\u001b[0;34m\u001b[0m\u001b[0m\n",
      "\u001b[0;32m~/anaconda3/lib/python3.6/site-packages/pandas/io/parsers.py\u001b[0m in \u001b[0;36m_read\u001b[0;34m(filepath_or_buffer, kwds)\u001b[0m\n\u001b[1;32m    403\u001b[0m \u001b[0;34m\u001b[0m\u001b[0m\n\u001b[1;32m    404\u001b[0m     \u001b[0;31m# Create the parser.\u001b[0m\u001b[0;34m\u001b[0m\u001b[0;34m\u001b[0m\u001b[0m\n\u001b[0;32m--> 405\u001b[0;31m     \u001b[0mparser\u001b[0m \u001b[0;34m=\u001b[0m \u001b[0mTextFileReader\u001b[0m\u001b[0;34m(\u001b[0m\u001b[0mfilepath_or_buffer\u001b[0m\u001b[0;34m,\u001b[0m \u001b[0;34m**\u001b[0m\u001b[0mkwds\u001b[0m\u001b[0;34m)\u001b[0m\u001b[0;34m\u001b[0m\u001b[0m\n\u001b[0m\u001b[1;32m    406\u001b[0m \u001b[0;34m\u001b[0m\u001b[0m\n\u001b[1;32m    407\u001b[0m     \u001b[0;32mif\u001b[0m \u001b[0mchunksize\u001b[0m \u001b[0;32mor\u001b[0m \u001b[0miterator\u001b[0m\u001b[0;34m:\u001b[0m\u001b[0;34m\u001b[0m\u001b[0m\n",
      "\u001b[0;32m~/anaconda3/lib/python3.6/site-packages/pandas/io/parsers.py\u001b[0m in \u001b[0;36m__init__\u001b[0;34m(self, f, engine, **kwds)\u001b[0m\n\u001b[1;32m    762\u001b[0m             \u001b[0mself\u001b[0m\u001b[0;34m.\u001b[0m\u001b[0moptions\u001b[0m\u001b[0;34m[\u001b[0m\u001b[0;34m'has_index_names'\u001b[0m\u001b[0;34m]\u001b[0m \u001b[0;34m=\u001b[0m \u001b[0mkwds\u001b[0m\u001b[0;34m[\u001b[0m\u001b[0;34m'has_index_names'\u001b[0m\u001b[0;34m]\u001b[0m\u001b[0;34m\u001b[0m\u001b[0m\n\u001b[1;32m    763\u001b[0m \u001b[0;34m\u001b[0m\u001b[0m\n\u001b[0;32m--> 764\u001b[0;31m         \u001b[0mself\u001b[0m\u001b[0;34m.\u001b[0m\u001b[0m_make_engine\u001b[0m\u001b[0;34m(\u001b[0m\u001b[0mself\u001b[0m\u001b[0;34m.\u001b[0m\u001b[0mengine\u001b[0m\u001b[0;34m)\u001b[0m\u001b[0;34m\u001b[0m\u001b[0m\n\u001b[0m\u001b[1;32m    765\u001b[0m \u001b[0;34m\u001b[0m\u001b[0m\n\u001b[1;32m    766\u001b[0m     \u001b[0;32mdef\u001b[0m \u001b[0mclose\u001b[0m\u001b[0;34m(\u001b[0m\u001b[0mself\u001b[0m\u001b[0;34m)\u001b[0m\u001b[0;34m:\u001b[0m\u001b[0;34m\u001b[0m\u001b[0m\n",
      "\u001b[0;32m~/anaconda3/lib/python3.6/site-packages/pandas/io/parsers.py\u001b[0m in \u001b[0;36m_make_engine\u001b[0;34m(self, engine)\u001b[0m\n\u001b[1;32m    983\u001b[0m     \u001b[0;32mdef\u001b[0m \u001b[0m_make_engine\u001b[0m\u001b[0;34m(\u001b[0m\u001b[0mself\u001b[0m\u001b[0;34m,\u001b[0m \u001b[0mengine\u001b[0m\u001b[0;34m=\u001b[0m\u001b[0;34m'c'\u001b[0m\u001b[0;34m)\u001b[0m\u001b[0;34m:\u001b[0m\u001b[0;34m\u001b[0m\u001b[0m\n\u001b[1;32m    984\u001b[0m         \u001b[0;32mif\u001b[0m \u001b[0mengine\u001b[0m \u001b[0;34m==\u001b[0m \u001b[0;34m'c'\u001b[0m\u001b[0;34m:\u001b[0m\u001b[0;34m\u001b[0m\u001b[0m\n\u001b[0;32m--> 985\u001b[0;31m             \u001b[0mself\u001b[0m\u001b[0;34m.\u001b[0m\u001b[0m_engine\u001b[0m \u001b[0;34m=\u001b[0m \u001b[0mCParserWrapper\u001b[0m\u001b[0;34m(\u001b[0m\u001b[0mself\u001b[0m\u001b[0;34m.\u001b[0m\u001b[0mf\u001b[0m\u001b[0;34m,\u001b[0m \u001b[0;34m**\u001b[0m\u001b[0mself\u001b[0m\u001b[0;34m.\u001b[0m\u001b[0moptions\u001b[0m\u001b[0;34m)\u001b[0m\u001b[0;34m\u001b[0m\u001b[0m\n\u001b[0m\u001b[1;32m    986\u001b[0m         \u001b[0;32melse\u001b[0m\u001b[0;34m:\u001b[0m\u001b[0;34m\u001b[0m\u001b[0m\n\u001b[1;32m    987\u001b[0m             \u001b[0;32mif\u001b[0m \u001b[0mengine\u001b[0m \u001b[0;34m==\u001b[0m \u001b[0;34m'python'\u001b[0m\u001b[0;34m:\u001b[0m\u001b[0;34m\u001b[0m\u001b[0m\n",
      "\u001b[0;32m~/anaconda3/lib/python3.6/site-packages/pandas/io/parsers.py\u001b[0m in \u001b[0;36m__init__\u001b[0;34m(self, src, **kwds)\u001b[0m\n\u001b[1;32m   1603\u001b[0m         \u001b[0mkwds\u001b[0m\u001b[0;34m[\u001b[0m\u001b[0;34m'allow_leading_cols'\u001b[0m\u001b[0;34m]\u001b[0m \u001b[0;34m=\u001b[0m \u001b[0mself\u001b[0m\u001b[0;34m.\u001b[0m\u001b[0mindex_col\u001b[0m \u001b[0;32mis\u001b[0m \u001b[0;32mnot\u001b[0m \u001b[0;32mFalse\u001b[0m\u001b[0;34m\u001b[0m\u001b[0m\n\u001b[1;32m   1604\u001b[0m \u001b[0;34m\u001b[0m\u001b[0m\n\u001b[0;32m-> 1605\u001b[0;31m         \u001b[0mself\u001b[0m\u001b[0;34m.\u001b[0m\u001b[0m_reader\u001b[0m \u001b[0;34m=\u001b[0m \u001b[0mparsers\u001b[0m\u001b[0;34m.\u001b[0m\u001b[0mTextReader\u001b[0m\u001b[0;34m(\u001b[0m\u001b[0msrc\u001b[0m\u001b[0;34m,\u001b[0m \u001b[0;34m**\u001b[0m\u001b[0mkwds\u001b[0m\u001b[0;34m)\u001b[0m\u001b[0;34m\u001b[0m\u001b[0m\n\u001b[0m\u001b[1;32m   1606\u001b[0m \u001b[0;34m\u001b[0m\u001b[0m\n\u001b[1;32m   1607\u001b[0m         \u001b[0;31m# XXX\u001b[0m\u001b[0;34m\u001b[0m\u001b[0;34m\u001b[0m\u001b[0m\n",
      "\u001b[0;32mpandas/_libs/parsers.pyx\u001b[0m in \u001b[0;36mpandas._libs.parsers.TextReader.__cinit__ (pandas/_libs/parsers.c:4209)\u001b[0;34m()\u001b[0m\n",
      "\u001b[0;32mpandas/_libs/parsers.pyx\u001b[0m in \u001b[0;36mpandas._libs.parsers.TextReader._setup_parser_source (pandas/_libs/parsers.c:8873)\u001b[0;34m()\u001b[0m\n",
      "\u001b[0;31mFileNotFoundError\u001b[0m: File b'../data/communitydistrict-seriouscrimerateper1000residents.csv' does not exist"
     ]
    }
   ],
   "source": [
    "n = 11 # number of years\n",
    "m = 7 # number of features\n",
    "k = 55 # number of PUMAs\n",
    "# Stack our observations: first axis is PUMA, second is year, third is feature\n",
    "Xs = np.dstack([median_incomes[years].values, education_levels[years].values, percents_white[years].values, subways[years].values, new_units[years].values, crime[years].values, neighbor_means[years].values, median_rents[years].ewm(com=2).mean().values])\n",
    "\n",
    "# Observations\n",
    "Y = median_rents[years].astype('float32').values\n",
    "# # EMOV_n = ewma(y,com=2)\n",
    "# # X = np.vstack((X,EMOV_n))\n",
    "X_test = Xs[:,-1,:]\n",
    "Y_test = Y[:,-1]\n",
    "Y = Y[:,:-1]\n",
    "X = Xs[:, :-1, :]\n",
    "clf = tree.DecisionTreeRegressor()\n",
    "predictions = np.zeros(k)\n",
    "resids = np.zeros(k)\n",
    "for i in range(k):\n",
    "    clf = clf.fit(X[i], Y[i])\n",
    "    predictions[i] = clf.predict(X_test[i].reshape(1,-1))[0]\n",
    "    resids[i] = clf.score(X_test[i].reshape(1,-1), Y_test[i].reshape(1,-1))"
   ]
<<<<<<< HEAD
  },
  {
   "cell_type": "code",
   "execution_count": 26,
   "metadata": {},
   "outputs": [
    {
     "ename": "TypeError",
     "evalue": "data type not understood",
     "output_type": "error",
     "traceback": [
      "\u001b[0;31m---------------------------------------------------------------------------\u001b[0m",
      "\u001b[0;31mTypeError\u001b[0m                                 Traceback (most recent call last)",
      "\u001b[0;32m<ipython-input-26-7998c1d13280>\u001b[0m in \u001b[0;36m<module>\u001b[0;34m()\u001b[0m\n\u001b[1;32m      4\u001b[0m \u001b[0;34m\u001b[0m\u001b[0m\n\u001b[1;32m      5\u001b[0m \u001b[0;31m# Try random forest for one PUMA\u001b[0m\u001b[0;34m\u001b[0m\u001b[0;34m\u001b[0m\u001b[0m\n\u001b[0;32m----> 6\u001b[0;31m \u001b[0mX\u001b[0m \u001b[0;34m=\u001b[0m \u001b[0mnp\u001b[0m\u001b[0;34m.\u001b[0m\u001b[0mzeros\u001b[0m\u001b[0;34m(\u001b[0m\u001b[0mn\u001b[0m\u001b[0;34m,\u001b[0m\u001b[0mm\u001b[0m\u001b[0;34m)\u001b[0m\u001b[0;34m\u001b[0m\u001b[0m\n\u001b[0m\u001b[1;32m      7\u001b[0m \u001b[0my\u001b[0m \u001b[0;34m=\u001b[0m \u001b[0mnp\u001b[0m\u001b[0;34m.\u001b[0m\u001b[0mzeros\u001b[0m\u001b[0;34m(\u001b[0m\u001b[0mn\u001b[0m\u001b[0;34m,\u001b[0m\u001b[0;36m1\u001b[0m\u001b[0;34m)\u001b[0m\u001b[0;34m\u001b[0m\u001b[0m\n\u001b[1;32m      8\u001b[0m \u001b[0;34m\u001b[0m\u001b[0m\n",
      "\u001b[0;31mTypeError\u001b[0m: data type not understood"
     ]
    }
   ],
   "source": [
    "n = 12 # number of time points\n",
    "m = 6 # number of features\n",
    "k = 55 # number of PUMAs\n",
    "\n",
    "# Try decision tree for one PUMA\n",
    "X = np.zeros(n,m)\n",
    "y = np.zeros(n,1)\n",
    "\n",
    "years = [str(y) for y in range(2005,2017)]\n",
    "y = median_rents[years].transpose(:,1)\n",
    "\n",
    "mi = median_incomes[years].transpose(:,1)\n",
    "el = education_levels[years].transpose(:,1)\n",
    "pw = percents_white[years].transpose(:,1)\n",
    "sw = subways[years].transpose(:,1)\n",
    "nu = new_units[years].transpose(:,1)\n",
    "c = crime[years].transpose(:,1)\n",
    "\n",
    "X = np.concatenate(mi,el,pw,sw,nu,c,axis=1)\n",
    "ewma = pandas.stats.moments.ewma\n",
    "EMOV_n = ewma(y,com=2)\n",
    "X = np.vstack((X,EMOV_n))\n",
    "X_test = [-1,:]\n",
    "X = X[:-1, :]\n",
    "clf = tree.DecisionTreeRegressor()\n",
    "clf = clf.fit(X, y)\n",
    "clf.predict(X_test)"
   ]
  },
  {
   "cell_type": "code",
   "execution_count": null,
   "metadata": {
    "collapsed": true
   },
   "outputs": [],
   "source": []
=======
>>>>>>> d9a3a53771ccffcf0182d26684633232636f6583
  }
 ],
 "metadata": {
  "kernelspec": {
   "display_name": "Python 3",
   "language": "python",
   "name": "python3"
  },
  "language_info": {
   "codemirror_mode": {
    "name": "ipython",
    "version": 3
   },
   "file_extension": ".py",
   "mimetype": "text/x-python",
   "name": "python",
   "nbconvert_exporter": "python",
   "pygments_lexer": "ipython3",
   "version": "3.6.3"
  }
 },
 "nbformat": 4,
 "nbformat_minor": 2
}
